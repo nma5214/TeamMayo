{
 "cells": [
  {
   "cell_type": "code",
   "execution_count": 305,
   "metadata": {},
   "outputs": [
    {
     "data": {
      "text/plain": [
       "100"
      ]
     },
     "execution_count": 305,
     "metadata": {},
     "output_type": "execute_result"
    }
   ],
   "source": [
    "#The goal of this program is to simulate the scheduling process for a patients going through the first part\n",
    "#of a bone marrow transplant patient. I will use a greedy approach.\n",
    "#The algorithm schedules a patient for the first available time slot for the\n",
    "#first appointment, then schedules them for the first available time slot fot the second appointment.\n",
    "#then we will see what happens\n",
    "\n",
    "import numpy as np\n",
    "import random\n",
    "import matplotlib.pyplot as plt \n",
    "\n",
    "num_pat_list = []\n",
    "for i in range(10):\n",
    "    num_pat_list.append(10)\n",
    "sp1=10\n",
    "sp2=3\n",
    "\n",
    "num_pats=sum(num_pat_list)\n",
    "\n",
    "#setting the seed\n",
    "np.random.seed(2019)\n",
    "#Choosing collection numbers to be random. \n",
    "#The distribution below is almost the same as the one Yu-Li showed us.\n",
    "\n",
    "#doctor schedules.  For now, let's have 3 doctors available for the d2 process who are available on random days.\n",
    "doctor = []\n",
    "for i in range(3):\n",
    "    availability = []\n",
    "    for j in range(150): #put the total days in place of the number here.\n",
    "        availability.append(np.random.randint(0,2)) #they are randomly available on each day.\n",
    "    doctor.append(availability)\n",
    "#print doctor\n",
    "coll = []\n",
    "for i in range(num_pats):\n",
    "    coll.append(np.random.choice([1,2,3,4,5],p=[.4,.3,.15,.1,.05]))\n",
    "coll = np.array(coll)\n",
    "#for j, day in enumerate(coll):\n",
    "#    print day\n",
    "\n",
    "#Choosing number of chemo days to be random according to a triangular distribution.\n",
    "chemo = []\n",
    "for i in range(num_pats):\n",
    "    chemo.append(int((random.triangular(low=1,high=6, mode=2))))\n",
    "\n",
    "inf = []\n",
    "for i in range(num_pats):\n",
    "    inf.append(2)\n",
    "\n",
    "\n",
    "\n",
    "#def make_schedule_d1(num_patients,collections, max_space1, max_days):\n",
    "    #initialize schedules for d1 and d2 procedures.  These record the number of patients scheduled for each procedure on each day.\n",
    "    #space1 = np.zeros(max_days)\n",
    "    #space2 = np.zeros(100)\n",
    "    \n",
    "    #n1=len(space1)\n",
    "    #n2=len(space2)\n",
    "    \n",
    "    #initialize a vector which will keep track of each patient's schedule for \n",
    "    #d1.\n",
    "    #patients_d1 = []\n",
    "    #patients_d2 = []\n",
    "    #for i in range(num_patients):\n",
    "     #   for j in range(n1):\n",
    "      #      #for each patient, we will schedule them in the first available\n",
    "            #time slot for the d1 procedure.\n",
    "       #     if space1[j]< max_space1: #if there is space in the d1 facility on day j (interpret weeks as 5 days long, 1 is )\n",
    "         #       for k in range(collections[i]):\n",
    "        #            space1[j+k]=space1[j+k]+1 #add patient i to the schedule on day k for each day that they are collecting.\n",
    "          #      patients_d1.append(j) #record the fact that patient i was scheduled for d1 on day j\n",
    "           #     break\n",
    "           \n",
    "    #return(np.array(patients_d1))\n",
    "\n",
    "\n",
    "#first_sched = make_schedule_d1(num_pats,coll, sp1,100)\n",
    "    \n",
    "#first_sched              \n",
    "                    \n",
    "        \n",
    "\n",
    "                \n",
    "                \n",
    "                \n",
    "len(coll)"
   ]
  },
  {
   "cell_type": "code",
   "execution_count": 315,
   "metadata": {},
   "outputs": [],
   "source": [
    "#This block contains all of the functions used.\n",
    "\n",
    "#Makes a d1 schedule which places a patient in the first available day slot.\n",
    "#Output is a list.  ith position tells you the day patient i is scheduled for the d1 procedure.  \n",
    "#Day 0 is a Monday, and we ignore weekends when scheduling.\n",
    "#This will take in a list with the number of patients coming in each week.\n",
    "def make_schedule_d1_daily(patient_arrivals, collections, max_space, max_days):\n",
    "    space = np.zeros(max_days)\n",
    "    patients_d1 = []\n",
    "    for i,pat_arr_time in enumerate(patient_arrivals):\n",
    "        for j in range(pat_arr_time+1, max_days): #potential start day.  Cannot schedule a patient for the day they arrive\n",
    "            check = space[j] #This is used to determine if the patient was successfully scheduled on day j.\n",
    "            for m in range(collections[i]):\n",
    "                #for each patient, we will schedule them in the first available\n",
    "                #time slot for the d1 procedure.  We take into account the week that they arrive, so they cannot start on\n",
    "                #a day before they arrive.  \n",
    "                #if the patient being scheduled would ever overflow capacity on any collection day, then skip to \n",
    "                #the next day\n",
    "                if space[j+m]>=max_space:\n",
    "                    break\n",
    "                elif (space[j+m]< max_space) and (m==collections[i]-1): #if there is space in the d1 facility on day j (interpret weeks as 5 days long, 0 is Monday)\n",
    "                    for k in range(collections[i]):\n",
    "                        space[j+k]+=1 #add patient 5*i+k to the schedule on each day that they are collecting.\n",
    "                    patients_d1.append(j) #record the fact that patient i was scheduled for d1 on day j\n",
    "                    break\n",
    "            if space[j]!=check: #If they were scheduled, then go to the next patient\n",
    "                break\n",
    "                \n",
    "    return(np.array(patients_d1))\n",
    "            \n",
    "    \n",
    "def make_schedule_d1_batch(num_patients_list, collections, max_space1,max_days):\n",
    "    space1 = np.zeros(max_days)\n",
    "    #space2 = np.zeros(100)\n",
    "    \n",
    "    n1=len(space1) #number of days\n",
    "    #n2=len(space2)\n",
    "    \n",
    "    #initialize a vector which will keep track of each patient's date for the start of the d1 procedure\n",
    "    patients_d1 = []\n",
    "\n",
    "    for i,num_patients in enumerate(num_patients_list):\n",
    "        for k in range(num_patients):\n",
    "            for j in range(5*i,n1): #potential start days for the patient.\n",
    "                check = space1[j] #This is used to determine if the patient was successfully scheduled on day j.\n",
    "                for m in range(collections[num_patients*i+k]):\n",
    "                    #for each patient, we will schedule them in the first available\n",
    "                    #time slot for the d1 procedure.  We take into account the week that they arrive, so they cannot start on\n",
    "                    #a day before they arrive.  \n",
    "                    #if the patient being scheduled would ever overflow capacity on any collection day, then skip to \n",
    "                    #the next day\n",
    "                    if space1[j+m]>=max_space1:\n",
    "                        break\n",
    "                    elif (space1[j+m]< max_space1) and (m==collections[num_patients*i+k]-1): #if there is space in the d1 facility on day j (interpret weeks as 5 days long, 0 is Monday)\n",
    "                        for k in range(collections[num_patients*i+k]):\n",
    "                            space1[j+k]+=1 #add patient 5*i+k to the schedule on each day that they are collecting.\n",
    "                        patients_d1.append(j) #record the fact that patient i was scheduled for d1 on day j\n",
    "                        break\n",
    "                if space1[j]!=check: #If they were scheduled, then go to the next patient\n",
    "                    break\n",
    "                \n",
    "           \n",
    "    return(np.array(patients_d1))\n",
    "\n",
    "#Let's make a function that will generate a patient list given a daily expected arrival rate.  The distance \n",
    "#between arrivals will draw from an exponential distribution.  We will give the number of patients we want to schedule\n",
    "#and the mean arrival rate (which is 1/lambda).\n",
    "def pat_arr_times(num_pats, arr_rate):\n",
    "    pat_list = [np.random.exponential(scale=arr_rate)] #this is the first patient arriving.\n",
    "    for i in range(num_pats-1):\n",
    "        pat_list.append(pat_list[i]+np.random.exponential(scale=arr_rate))\n",
    "    for j in range(num_pats):\n",
    "        pat_list[j]=int(round(pat_list[j]))\n",
    "    return pat_list\n",
    "\n",
    "#Now let's make a schedule that takes in a list of patients arriving on certain days, the number of collections needed\n",
    "#for each patient in the form of a list, the max space in the d1 facility, and the max number of days we can schedule for\n",
    "\n",
    "    \n",
    "\n",
    "\n",
    "#Let's create a function that will create a d2 schedule given a d1 schedule, the number of collections they need,\n",
    "#and the max amount of space available in the d2 facility.\n",
    "#d1_schedule is a list of length n, same size list as collections.  Output is a list of numbers.  The max space is the\n",
    "#number of spaces which the facility has, and a patient goes through the facility in an hour\n",
    "\n",
    "def make_schedule_d2(d1_schedule, collections, max_space2,max_days):\n",
    "    space2 = np.zeros(max_days) #the length of this list is the max number of days we can schedule for\n",
    "    patients2=[] #Initiate a patient list\n",
    "    for j, day in enumerate(d1_schedule):\n",
    "        if space2[day+collections[j]]<8*max_space2:\n",
    "            space2[day+collections[j]]=space2[day+collections[j]]+1\n",
    "            patients2.append(day+collections[j])\n",
    "    return(np.array(patients2))\n",
    "\n",
    "#Let's create a schedule now from the d1 schedule, the number of collections, and the doctor availability.  \n",
    "#Patients will be assigned a number from 0 to n-1 where n is the number of doctors, and these numbers will represent the \n",
    "#doctors.  We will then check whether the first available day for d2 is a day when their doctor is available.  If not\n",
    "#we will look to the next day, etc.\n",
    "\n",
    "def make_schedule_d2_doctors(d1_schedule, collections,doc_sched, max_space2, max_days):\n",
    "    space2 = np.zeros(max_days) #the length of this list is the max number of days \n",
    "    patients2=[] #Initiate a patient list\n",
    "    #make a list assigning a patient to one of the doctors\n",
    "    patient_doc = []\n",
    "    for i in range(len(d1_schedule)):\n",
    "        patient_doc.append(np.random.randint(0,len(doc_sched))) #randomly assigns each patient a doctor\n",
    "    for j, day in enumerate(d1_schedule): #j is keeping track of patients\n",
    "        for k in range(day,max_days-collections[j]): #k is keeping track of the day\n",
    "            #print(space2[k+collections[j]], doc_sched[patient_doc[j]][k])\n",
    "            if space2[k+collections[j]]<8*max_space2 and doc_sched[patient_doc[j]][k]==1: #if there is space and the doc is available\n",
    "                space2[k+collections[j]]+=1\n",
    "                patients2.append(k+collections[j])\n",
    "                break\n",
    "            \n",
    "    return(np.array(patients2))\n",
    "\n",
    "#Given a d2 schedule, the number of days each patient needs for chemo, and , make a function that will tell you how many patients are in the hospital (different from the d1\n",
    "#and d2 facility) on any given day.  \n",
    "#Some variables to consider: number of days for chemo for each patient, number of days for infusion for each patient.\n",
    "\n",
    "def make_schedule_hospital(d2_schedule, chemo_list, infusion_list, max_days):\n",
    "    chemo_space = np.zeros(max_days)\n",
    "    infusion_space = np.zeros(max_days)\n",
    "    for i,day in enumerate(d2_schedule):\n",
    "        for j in range(chemo_list[i]):\n",
    "            chemo_space[day+1+j]=chemo_space[day+1+j]+1\n",
    "            \n",
    "        for k in range(infusion_list[i]):\n",
    "            infusion_space[day+chemo_list[i]+k+1] = infusion_space[day+chemo_list[i]+k+1]+1\n",
    "    \n",
    "    return(chemo_space+infusion_space) #The ith position will give the number of people in the hospital on day i.\n",
    "\n",
    "def make_schedule_chemo(d2_schedule, chemo_list, max_days):\n",
    "    chemo_space = np.zeros(max_days)\n",
    "    for i,day in enumerate(d2_schedule):\n",
    "        for j in range(chemo_list[i]):\n",
    "            chemo_space[day+1+j]=chemo_space[day+1+j]+1\n",
    "    \n",
    "    return(chemo_space) #The ith position will give the number of people in chemo on day i.\n",
    "   \n",
    "def make_schedule_infusion(d2_schedule, chemo_list, infusion_list, max_days):\n",
    "    chemo_space = np.zeros(max_days)\n",
    "    infusion_space = np.zeros(max_days)\n",
    "    for i,day in enumerate(d2_schedule):            \n",
    "        for k in range(infusion_list[i]):\n",
    "            infusion_space[day+chemo_list[i]+k+1] = infusion_space[day+chemo_list[i]+k+1]+1\n",
    "    \n",
    "    return(infusion_space) #The ith position will give the number of people getting an infusion on day i.\n",
    "\n",
    "hosp_sched = make_schedule_hospital(second_sched,chemo,inf, total_days)           \n",
    "\n",
    "#Let's make a function that will take in a d1 schedule and a d2 schedule, and the collections each patient needs\n",
    "# and calculate the wait times for each patient.  \n",
    "#Recall that the days are given by 5-day weeks so that 0 is a Monday and 4 is a Friday, and 5 wraps\n",
    "#back around to Monday.  We want to count weekends in the wait time, so that if a patient ends d1 on a\n",
    "#Friday and begins d2 on a Monday, then the wait time for that patient is 2.\n",
    "\n",
    "def wait_time(d1_schedule, d2_schedule, collections):\n",
    "    q1 = []\n",
    "    n = len(d1_schedule)\n",
    "    for i in range(n):\n",
    "        for j in range(collections[i]):\n",
    "            if (d1_schedule[i]+j)%5==4: #if any of the collection days is a Friday\n",
    "                q1.append(d2_schedule[i]-(d1_schedule[i]+collections[i])+2) #add 2 to the wait time.\n",
    "                break\n",
    "            #if none of the collection days is a friday, then the wait time is the difference between the\n",
    "            #d1 end day plus 1 and the d2 start day.  A day of waiting is a day where nothing else happens\n",
    "            elif j==collections[i]-1:\n",
    "                q1.append(d2_schedule[i]-(d1_schedule[i]+collections[i]))\n",
    "    return q1\n",
    "        \n",
    "#Let's plot the d1 and d2 patients going through the system\n",
    "#First we need a function that will convert the d1 and d2 schedule (giving the day the patient) to the number of patients\n",
    "#in the system who are undergoing the d1 and d2 processes on any given day.\n",
    "\n",
    "def num_patients_per_day_d2(schedule, max_days):\n",
    "    num_pats_day = np.zeros(max_days)\n",
    "    for i in schedule:\n",
    "        num_pats_day[i]+=1\n",
    "    return(num_pats_day)\n",
    "\n",
    "def num_patients_per_day_d1(schedule,collections, max_days):\n",
    "    num_pats_day = np.zeros(max_days)\n",
    "    for i,day in enumerate(schedule):\n",
    "        for j in range(collections[i]):\n",
    "            num_pats_day[day+j]+=1\n",
    "    return(num_pats_day)\n",
    "\n",
    "#Visualizations\n",
    "\n",
    "#Compare wait times: graph the three methods on the same plot to compare\n",
    "#Compare nurse staff requirements: For the simulation, just use a step plot for the d1 patient volume. \n",
    "#For d2, divide the patient volume by 8 and round up to get a nurse count.\n",
    "#Compare daily patient volume directly.\n",
    "\n",
    "\n",
    "#Another method to try to improve baseline?\n",
    "#Another idea is to make the d1 process smoother by taking into account the current week's schedule and picking a day\n",
    "#to schedule the new patient that will make the d1 patient volume fluctuation flat."
   ]
  },
  {
   "cell_type": "code",
   "execution_count": 320,
   "metadata": {},
   "outputs": [],
   "source": [
    "pat_list_daily = pat_arr_times(num_pats,.5)\n",
    "#print pat_list_daily\n",
    "daily_sched_d1 = make_schedule_d1_daily(pat_list_daily, coll, sp1, 150)"
   ]
  },
  {
   "cell_type": "code",
   "execution_count": 290,
   "metadata": {},
   "outputs": [
    {
     "data": {
      "image/png": "[encoded data removed]",
      "text/plain": [
       "<Figure size 432x288 with 1 Axes>"
      ]
     },
     "metadata": {
      "needs_background": "light"
     },
     "output_type": "display_data"
    },
    {
     "name": "stdout",
     "output_type": "stream",
     "text": [
      "[1, 2, 3, 4, 5, 6, 7, 8, 9, 10, 11, 12, 13, 14, 15, 16, 17, 18, 19, 20, 21, 22, 23, 24, 25, 26, 27, 28, 29, 30, 31, 32, 33, 34, 35, 36, 37, 38, 39, 40, 41, 42, 43, 44, 45, 46, 47, 48, 49, 50, 51, 52, 53, 54, 55, 56, 57, 58, 59, 60, 61, 62, 63, 64, 65, 66, 67, 68, 69, 70, 71, 72, 73, 74, 75, 76, 77, 78, 79, 80, 81, 82, 83, 84, 85, 86, 87, 88, 89, 90, 91, 92, 93, 94, 95, 96, 97, 98, 99, 100, 101, 102, 103, 104, 105, 106, 107, 108, 109, 110, 111, 112, 113, 114, 115, 116, 117, 118, 119, 120, 121, 122, 123, 124, 125, 126, 127, 128, 129, 130, 131, 132, 133, 134, 135, 136, 137, 138, 139, 140, 141, 142, 143, 144, 145, 146, 147, 148, 149]\n"
     ]
    },
    {
     "data": {
      "image/png": "[encoded data removed]",
      "text/plain": [
       "<Figure size 432x288 with 1 Axes>"
      ]
     },
     "metadata": {
      "needs_background": "light"
     },
     "output_type": "display_data"
    }
   ],
   "source": [
    "#Let's play with allowing the collections to vary from patient to patient randomly. \n",
    "    \n",
    "batch_sched_d1 = make_schedule_d1_batch(num_pat_list, coll, sp1, 150)\n",
    "batch_sched_d2 = make_schedule_d2(batch_sched_d1,coll, sp2, 150)\n",
    "batch_hosp_sched = make_schedule_hospital(batch_sched_d2,chemo,inf, 150)  \n",
    "batch_chemo_sched = make_schedule_chemo(batch_sched_d2,chemo,150) \n",
    "batch_infusion_sched = make_schedule_infusion(batch_sched_d2,chemo,inf,150)\n",
    "\n",
    "\n",
    "#Now let's plot the patient influx (chemo+infusion patients)\n",
    "NumDays = len(batch_hosp_sched)\n",
    "Nd=list(range(1,NumDays))\n",
    "plt.step(Nd, batch_hosp_sched[1:150])\n",
    "chemo_plt = plt.bar(Nd,batch_chemo_sched[1:150])\n",
    "inf_plt = plt.bar(Nd,batch_infusion_sched[1:150], bottom=batch_chemo_sched[1:150])\n",
    "plt.xlabel(\"Days\")\n",
    "plt.ylabel(\"Patients in Hospital\")\n",
    "\n",
    "plt.show()\n",
    "#mean number of patients in the hospital\n",
    "#sum(batch_hosp_sched[1:55])/(len(batch_hosp_sched[1:55]))\n",
    "\n",
    "print(Nd)\n",
    "#len(batch_chemo_sched[1:150])\n",
    "#Breakdown the chemo and infusion numbers\n",
    "chemo_plt = plt.bar(Nd,batch_chemo_sched[1:150])\n",
    "inf_plt = plt.bar(Nd,batch_infusion_sched[1:150], bottom=batch_chemo_sched[1:150])"
   ]
  },
  {
   "cell_type": "code",
   "execution_count": 275,
   "metadata": {},
   "outputs": [
    {
     "data": {
      "image/png": "[encoded data removed]",
      "text/plain": [
       "<Figure size 432x288 with 1 Axes>"
      ]
     },
     "metadata": {
      "needs_background": "light"
     },
     "output_type": "display_data"
    },
    {
     "data": {
      "image/png": "[encoded data removed]",
      "text/plain": [
       "<Figure size 432x288 with 1 Axes>"
      ]
     },
     "metadata": {
      "needs_background": "light"
     },
     "output_type": "display_data"
    },
    {
     "data": {
      "text/plain": [
       "Text(0,0.5,'Patients Undergoing Chemotherapy')"
      ]
     },
     "execution_count": 275,
     "metadata": {},
     "output_type": "execute_result"
    },
    {
     "data": {
      "image/png": "[encoded data removed]",
      "text/plain": [
       "<Figure size 432x288 with 1 Axes>"
      ]
     },
     "metadata": {
      "needs_background": "light"
     },
     "output_type": "display_data"
    }
   ],
   "source": [
    "#Now let's plot the patient influx(chemo+infusion).  We will limit the days to the first 60.\n",
    "NumDays = 60\n",
    "Nd=list(range(1,NumDays))\n",
    "#plt.step(Nd, batch_hosp_sched[1:60],color=\"k\",linewidth=1.5)\n",
    "chemo_plt = plt.bar(Nd,batch_chemo_sched[1:60], label= \"Chemo\")\n",
    "inf_plt = plt.bar(Nd,batch_infusion_sched[1:60], bottom=batch_chemo_sched[1:60], label=\"Infusions\")\n",
    "plt.xlabel(\"Days\")\n",
    "plt.ylabel(\"Patients in Hospital\")\n",
    "plt.title(\"Daily Patient Volume Fluctuation in Hospital\")\n",
    "plt.legend(loc=\"best\")\n",
    "plt.show()\n",
    "\n",
    "inf_plt = plt.bar(Nd,batch_infusion_sched[1:60],color=\"orange\")\n",
    "plt.xlabel(\"Days\")\n",
    "plt.ylabel(\"Patients Undergoing Infusion\")\n",
    "plt.show()\n",
    "\n",
    "chemo_plt = plt.bar(Nd,batch_chemo_sched[1:60])\n",
    "plt.xlabel(\"Days\")\n",
    "plt.ylabel(\"Patients Undergoing Chemotherapy\")"
   ]
  },
  {
   "cell_type": "code",
   "execution_count": 292,
   "metadata": {
    "scrolled": true
   },
   "outputs": [
    {
     "data": {
      "image/png": "[encoded data removed]",
      "text/plain": [
       "<Figure size 432x288 with 1 Axes>"
      ]
     },
     "metadata": {
      "needs_background": "light"
     },
     "output_type": "display_data"
    },
    {
     "data": {
      "image/png": "[encoded data removed]",
      "text/plain": [
       "<Figure size 432x288 with 1 Axes>"
      ]
     },
     "metadata": {
      "needs_background": "light"
     },
     "output_type": "display_data"
    }
   ],
   "source": [
    "#Let's plot the d1 and d2 patients going through the system\n",
    "#First we need a function that will convert the d1 and d2 schedule (giving the day the patient) to the number of patients\n",
    "#in the system who are undergoing the d1 and d2 processes on any given day.\n",
    "\n",
    "\n",
    "num_pats_d1 = num_patients_per_day_d1(batch_sched_d1,coll, 150)\n",
    "num_pats_d2 = num_patients_per_day_d2(batch_sched_d2, 150)\n",
    "\n",
    "NumDays = 50\n",
    "Nd=list(range(0,NumDays))\n",
    "#plt.step(Nd, batch_hosp_sched[1:70],color=\"k\",linewidth=1.5)\n",
    "d1_plt = plt.bar(Nd,num_pats_d1[0:50], color = \"k\")\n",
    "plt.xlabel(\"Days\")\n",
    "plt.ylabel(\"Patients collecting stem cells\")\n",
    "plt.title(\"Patient Fluctuation in D1 process\")\n",
    "plt.legend(loc=\"best\")\n",
    "plt.show()\n",
    "\n",
    "d2_plt = plt.bar(Nd,num_pats_d2[0:50], color=\"green\")\n",
    "plt.xlabel(\"Days\")\n",
    "plt.ylabel(\"Patients in prechemo\")\n",
    "plt.title(\"Patient Fluctuation in D2 process\")\n",
    "plt.legend(loc=\"best\")\n",
    "plt.show()\n",
    "\n"
   ]
  },
  {
   "cell_type": "code",
   "execution_count": 322,
   "metadata": {},
   "outputs": [
    {
     "data": {
      "image/png": "[encoded data removed]",
      "text/plain": [
       "<Figure size 432x288 with 1 Axes>"
      ]
     },
     "metadata": {
      "needs_background": "light"
     },
     "output_type": "display_data"
    },
    {
     "data": {
      "image/png": "[encoded data removed]",
      "text/plain": [
       "<Figure size 432x288 with 1 Axes>"
      ]
     },
     "metadata": {
      "needs_background": "light"
     },
     "output_type": "display_data"
    }
   ],
   "source": [
    "#Making some plots to visualize the daily schedules \n",
    "\n",
    "daily_sched_d1 = make_schedule_d1_daily(pat_list_daily, coll, sp1, 150)\n",
    "daily_sched_d2 = make_schedule_d2(daily_sched_d1,coll, sp2, 150)\n",
    "daily_hosp_sched = make_schedule_hospital(daily_sched_d2,chemo,inf, 150) \n",
    "daily_chemo_sched = make_schedule_chemo(daily_sched_d2,chemo,150) \n",
    "daily_infusion_sched = make_schedule_infusion(daily_sched_d2,chemo,inf,150)\n",
    "\n",
    "#First, we look at daily fluctuations in d1 and d2 processes\n",
    "num_pats_d1 = num_patients_per_day_d1(daily_sched_d1,coll, 150)\n",
    "num_pats_d2 = num_patients_per_day_d2(daily_sched_d2, 150)\n",
    "\n",
    "NumDays = 50\n",
    "Nd=list(range(0,NumDays))\n",
    "#plt.step(Nd, batch_hosp_sched[1:70],color=\"k\",linewidth=1.5)\n",
    "d1_plt = plt.bar(Nd,num_pats_d1[0:50], color = \"k\")\n",
    "plt.xlabel(\"Days\")\n",
    "plt.ylabel(\"Patients collecting stem cells\")\n",
    "plt.title(\"Patient Fluctuation in D1 process\")\n",
    "plt.legend(loc=\"best\")\n",
    "plt.show()\n",
    "\n",
    "d2_plt = plt.bar(Nd,num_pats_d2[0:50], color=\"green\")\n",
    "plt.xlabel(\"Days\")\n",
    "plt.ylabel(\"Patients in prechemo\")\n",
    "plt.title(\"Patient Fluctuation in D2 process\")\n",
    "plt.legend(loc=\"best\")\n",
    "plt.show()\n",
    "\n"
   ]
  },
  {
   "cell_type": "code",
   "execution_count": null,
   "metadata": {},
   "outputs": [],
   "source": []
  }
 ],
 "metadata": {
  "kernelspec": {
   "display_name": "Python 2",
   "language": "python",
   "name": "python2"
  },
  "language_info": {
   "codemirror_mode": {
    "name": "ipython",
    "version": 2
   },
   "file_extension": ".py",
   "mimetype": "text/x-python",
   "name": "python",
   "nbconvert_exporter": "python",
   "pygments_lexer": "ipython2",
   "version": "2.7.16"
  }
 },
 "nbformat": 4,
 "nbformat_minor": 2
}
