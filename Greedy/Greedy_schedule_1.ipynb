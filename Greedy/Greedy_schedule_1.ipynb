{
 "cells": [
  {
   "cell_type": "code",
   "execution_count": 55,
   "metadata": {},
   "outputs": [
    {
     "data": {
      "text/plain": [
       "array([0, 0, 0, 0, 0, 0, 0, 0, 0, 0, 0, 0, 1, 1, 1, 1, 1, 1, 1, 1, 1, 1,\n",
       "       1, 1, 2, 2, 2, 2, 2, 2, 2, 2, 2, 2, 2, 2, 3, 3, 3, 3, 3, 3, 3, 3,\n",
       "       3, 3, 3, 3, 4, 4, 4, 4, 4, 4, 4, 4, 4, 4, 4, 4, 5, 5, 5, 5, 5, 5,\n",
       "       5, 5, 5, 5, 5, 5, 6, 6, 6, 6, 6, 6, 6, 6, 6, 6, 6, 6, 7, 7, 7, 7,\n",
       "       7, 7, 7, 7, 7, 7, 7, 7, 8, 8, 8, 8])"
      ]
     },
     "execution_count": 55,
     "metadata": {},
     "output_type": "execute_result"
    }
   ],
   "source": [
    "#The goal of this program is to simulate the scheduling process for a patients going through the first part\n",
    "#of a bone marrow transplant patient. I will use a greedy approach.\n",
    "#The algorithm schedules a patient for the first available time slot for the\n",
    "#first appointment, then schedules them for the first available time slot fot the second appointment.\n",
    "#then we will see what happens\n",
    "\n",
    "import numpy as np\n",
    "import random\n",
    "import matplotlib.pyplot as plt \n",
    "\n",
    "#define the max space in each facility.\n",
    "sp1 = 12\n",
    "sp2 = 3\n",
    "\n",
    "\n",
    "#set the number of patients we want to schedule\n",
    "num_pats = 100\n",
    "\n",
    "#set the number of collections each patient needs.  ith spot corresponds to the ith patient.\n",
    "\n",
    "coll = []\n",
    "for i in range(num_pats):\n",
    "    coll.append(3)\n",
    "\n",
    "#number of days for chemo for each patient. ith spot corresponds to the ith patient.\n",
    "chemo = []\n",
    "for i in range(num_pats):\n",
    "    chemo.append(2)\n",
    "\n",
    "#number of days for infusion for each patient. ith spot corresponds to the ith patient.   \n",
    "inf = []\n",
    "for i in range(num_pats):\n",
    "    inf.append(2)\n",
    "\n",
    "\n",
    "#Makes a d1 schedule which places a patient in the first available day slot.\n",
    "#Output is a list.  ith position tells you the day patient i is scheduled for the d1 procedure.  \n",
    "#Day 0 is a Monday, and we ignore weekends when scheduling.\n",
    "def make_schedule_d1(num_patients, max_space1):\n",
    "    #initialize schedules for d1 and d2 procedures.  These record the number of patients scheduled for each procedure on each day.\n",
    "    space1 = np.zeros(150)\n",
    "    #space2 = np.zeros(100)\n",
    "    \n",
    "    n1=len(space1)\n",
    "    #n2=len(space2)\n",
    "    \n",
    "    #initialize a vector which will keep track of each patient's schedule for \n",
    "    #d1.\n",
    "    patients_d1 = []\n",
    "    #patients_d2 = []\n",
    "    for i in range(num_patients):\n",
    "        for j in range(n1):\n",
    "            #for each patient, we will schedule them in the first available\n",
    "            #time slot for the d1 procedure.\n",
    "            if space1[j]< max_space1: #if there is space in the d1 facility on day j (interpret weeks as 5 days long, 1 is )\n",
    "                space1[j]=space1[j]+1 #add patient i to the schedule on day j\n",
    "                patients_d1.append(j) #record the fact that patient i was scheduled for d1 on day j\n",
    "                break\n",
    "           \n",
    "    return(np.array(patients_d1))\n",
    "\n",
    "\n",
    "first_sched = make_schedule_d1(num_pats, sp1)\n",
    "    \n",
    "first_sched              \n",
    "                    \n",
    "        \n",
    "\n",
    "                \n",
    "                \n",
    "                \n"
   ]
  },
  {
   "cell_type": "code",
   "execution_count": 57,
   "metadata": {},
   "outputs": [
    {
     "data": {
      "text/plain": [
       "array([ 3,  3,  3,  3,  3,  3,  3,  3,  3,  3,  3,  3,  4,  4,  4,  4,  4,\n",
       "        4,  4,  4,  4,  4,  4,  4,  5,  5,  5,  5,  5,  5,  5,  5,  5,  5,\n",
       "        5,  5,  6,  6,  6,  6,  6,  6,  6,  6,  6,  6,  6,  6,  7,  7,  7,\n",
       "        7,  7,  7,  7,  7,  7,  7,  7,  7,  8,  8,  8,  8,  8,  8,  8,  8,\n",
       "        8,  8,  8,  8,  9,  9,  9,  9,  9,  9,  9,  9,  9,  9,  9,  9, 10,\n",
       "       10, 10, 10, 10, 10, 10, 10, 10, 10, 10, 10, 11, 11, 11, 11])"
      ]
     },
     "execution_count": 57,
     "metadata": {},
     "output_type": "execute_result"
    }
   ],
   "source": [
    "#Let's create a function that will create a d2 schedule given a d1 schedule, the number of collections they need,\n",
    "#and the max amount of space available in the d2 facility.\n",
    "#d1_schedule is a list of length n, same size list as collections.  Output is a list of numbers.  The max space is the\n",
    "#number of spaces which the facility has, and a patient goes through the facility in an hour.\n",
    "def make_schedule_d2(d1_schedule, collections, max_space2):\n",
    "    space2 = np.zeros(150) #the length of this list is the max number of days \n",
    "    patients2=[] #Initiate a patient list\n",
    "    for j, day in enumerate(d1_schedule):\n",
    "        if space2[day+collections[j]]<8*max_space2:\n",
    "            space2[day+collections[j]]=space2[day+collections[j]]+1\n",
    "            patients2.append(day+collections[j])\n",
    "    return(np.array(patients2))\n",
    "\n",
    "second_sched = make_schedule_d2(first_sched, coll, sp2)\n",
    "#second_sched"
   ]
  },
  {
   "cell_type": "code",
   "execution_count": 59,
   "metadata": {},
   "outputs": [],
   "source": [
    "#Given a d2 schedule, the number of days each patient needs for chemo, and , make a function that will tell you how many patients are in the hospital (different from the d1\n",
    "#and d2 facility) on any given day.  \n",
    "#Some variables to consider: number of days for chemo for each patient, number of days for infusion for each patient.\n",
    "\n",
    "def make_schedule_hospital(d2_schedule, chemo_list, infusion_list):\n",
    "    chemo_space = np.zeros(150)\n",
    "    infusion_space = np.zeros(150)\n",
    "    for i,day in enumerate(d2_schedule):\n",
    "        for j in range(chemo_list[i]):\n",
    "            chemo_space[day+j]=chemo_space[day+j]+1\n",
    "            \n",
    "        for k in range(infusion_list[i]):\n",
    "            infusion_space[day+chemo_list[i]+k+1] = infusion_space[day+chemo_list[i]+k+1]+1\n",
    "    \n",
    "    return(chemo_space+infusion_space) #The ith position will give the number of people in the hospital on day i.\n",
    "        \n",
    "hosp_sched = make_schedule_hospital(second_sched,chemo,inf)           \n",
    "            \n",
    "        "
   ]
  },
  {
   "cell_type": "code",
   "execution_count": 60,
   "metadata": {},
   "outputs": [
    {
     "data": {
      "text/plain": [
       "Text(0,0.5,'Patients in System')"
      ]
     },
     "execution_count": 60,
     "metadata": {},
     "output_type": "execute_result"
    },
    {
     "data": {
      "image/png": "[encoded data removed]",
      "text/plain": [
       "<Figure size 432x288 with 1 Axes>"
      ]
     },
     "metadata": {
      "needs_background": "light"
     },
     "output_type": "display_data"
    }
   ],
   "source": [
    "#Now let's plot the patient influx\n",
    "NumDays = len(hosp_sched)+1\n",
    "Nd=list(range(1,NumDays))\n",
    "plt.step(Nd, hosp_sched)\n",
    "plt.xlabel(\"Time\")\n",
    "plt.ylabel(\"Patients in Hospital\")"
   ]
  },
  {
   "cell_type": "code",
   "execution_count": 61,
   "metadata": {},
   "outputs": [
    {
     "name": "stdout",
     "output_type": "stream",
     "text": [
      "[0, 0, 0, 0, 0, 0, 0, 0, 0, 0, 0, 0, 1, 1, 1, 1, 1, 1, 1, 1, 5, 5, 5, 5, 5, 5, 5, 5, 5, 5, 5, 5, 6, 6, 6, 6, 6, 6, 6, 6, 10, 10, 10, 10, 10, 10, 10, 10, 10, 10, 10, 10, 11, 11, 11, 11, 11, 11, 11, 11, 15, 15, 15, 15, 15, 15, 15, 15, 15, 15, 15, 15, 16, 16, 16, 16, 16, 16, 16, 16, 20, 20, 20, 20, 20, 20, 20, 20, 20, 20, 20, 20, 21, 21, 21, 21, 21, 21, 21, 21, 25, 25, 25, 25, 25, 25, 25, 25, 25, 25, 25, 25, 26, 26, 26, 26, 26, 26, 26, 26, 30, 30, 30, 30, 30, 30, 30, 30, 30, 30, 30, 30, 31, 31, 31, 31, 31, 31, 31, 31, 35, 35, 35, 35, 35, 35, 35, 35, 35, 35, 35, 35, 36, 36, 36, 36, 36, 36, 36, 36, 40, 40, 40, 40, 40, 40, 40, 40, 40, 40, 40, 40, 41, 41, 41, 41, 41, 41, 41, 41, 45, 45, 45, 45, 45, 45, 45, 45, 45, 45, 45, 45, 46, 46, 46, 46, 46, 46, 46, 46]\n"
     ]
    }
   ],
   "source": [
    "#Incorporating patients coming in batches week-by-week. This will do the exact same thing as make_schedule_d1, but it\n",
    "#will take in a list with the number of patients coming in each week.\n",
    "num_pat_list = []\n",
    "for i in range(10):\n",
    "    num_pat_list.append(20)\n",
    "sp1=12\n",
    "sp2=3\n",
    "\n",
    "num_pats=sum(num_pat_list)\n",
    "coll = []\n",
    "for i in range(num_pats):\n",
    "    coll.append(3)\n",
    "    \n",
    "chemo = []\n",
    "for i in range(num_pats):\n",
    "    chemo.append(2)\n",
    "\n",
    "inf = []\n",
    "for i in range(num_pats):\n",
    "    inf.append(2)\n",
    "def make_schedule_d1_batch(num_patients_list, max_space1):\n",
    "    space1 = np.zeros(150)\n",
    "    #space2 = np.zeros(100)\n",
    "    \n",
    "    n1=len(space1)\n",
    "    #n2=len(space2)\n",
    "    \n",
    "    #initialize a vector which will keep track of each patient's date for the start of the d1 procedure\n",
    "    #d1\n",
    "    patients_d1 = []\n",
    "    #patients_d2 = []\n",
    "    for i,num_patients in enumerate(num_patients_list):\n",
    "        for k in range(num_patients):\n",
    "            for j in range(5*i,n1):\n",
    "                #for each patient, we will schedule them in the first available\n",
    "                #time slot for the d1 procedure.  We take into account the week that they arrive\n",
    "                if space1[j]< max_space1: #if there is space in the d1 facility on day j (interpret weeks as 5 days long, 0 is Monday)\n",
    "                    space1[j]=space1[j]+1 #add patient i to the schedule on day j\n",
    "                    patients_d1.append(j) #record the fact that patient i was scheduled for d1 on day j\n",
    "                    break\n",
    "           \n",
    "    return(patients_d1)\n",
    "\n",
    "batch_sched_d1 = make_schedule_d1_batch(num_pat_list, sp1)\n",
    "print(batch_sched_d1)"
   ]
  },
  {
   "cell_type": "code",
   "execution_count": 62,
   "metadata": {},
   "outputs": [
    {
     "data": {
      "text/plain": [
       "Text(0,0.5,'Patients in System')"
      ]
     },
     "execution_count": 62,
     "metadata": {},
     "output_type": "execute_result"
    },
    {
     "data": {
      "image/png": "[encoded data removed]",
      "text/plain": [
       "<Figure size 432x288 with 1 Axes>"
      ]
     },
     "metadata": {
      "needs_background": "light"
     },
     "output_type": "display_data"
    }
   ],
   "source": [
    "batch_sched_d2= make_schedule_d2(batch_sched_d1, coll, sp2)\n",
    "\n",
    "batch_hosp_sched = make_schedule_hospital(batch_sched_d2,chemo,inf)  \n",
    "\n",
    "#Now let's plot the patient influx\n",
    "NumDays = len(batch_hosp_sched)+1\n",
    "Nd=list(range(1,NumDays))\n",
    "plt.step(Nd, batch_hosp_sched)\n",
    "plt.xlabel(\"Time\")\n",
    "plt.ylabel(\"Patients in Hospital\")"
   ]
  }
 ],
 "metadata": {
  "kernelspec": {
   "display_name": "Python 2",
   "language": "python",
   "name": "python2"
  },
  "language_info": {
   "codemirror_mode": {
    "name": "ipython",
    "version": 2
   },
   "file_extension": ".py",
   "mimetype": "text/x-python",
   "name": "python",
   "nbconvert_exporter": "python",
   "pygments_lexer": "ipython2",
   "version": "2.7.16"
  }
 },
 "nbformat": 4,
 "nbformat_minor": 2
}
