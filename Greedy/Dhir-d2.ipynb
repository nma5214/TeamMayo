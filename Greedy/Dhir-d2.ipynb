{
 "cells": [
  {
   "cell_type": "code",
   "execution_count": 3,
   "metadata": {},
   "outputs": [],
   "source": [
    "import numpy as np\n",
    "import random\n",
    "import matplotlib.pyplot as plt \n",
    "import seaborn as sns\n"
   ]
  },
  {
   "cell_type": "code",
   "execution_count": 4,
   "metadata": {},
   "outputs": [],
   "source": [
    "num_pat_list = [] #10 patients coming in for 10 weeks\n",
    "for i in range(10):\n",
    "    num_pat_list.append(12)\n",
    "sp1=10\n",
    "sp2=3\n",
    "num_pats=sum(num_pat_list) #total is 100 patients\n",
    "\n",
    "#setting the seed\n",
    "np.random.seed(2019)\n",
    "\n",
    "#currently we assume that the patient needs three collections\n",
    "coll = []\n",
    "for i in range(num_pats):\n",
    "    coll.append(3)\n",
    "coll= np.array(coll) \n",
    "\n",
    "#Let us take the number given by Yuli\n",
    "np.random.seed(2019)\n",
    "C = [np.random.choice([1,2,3,4,5], p =[.398,.304,.147,.088,.063]) for i in range(num_pats)]\n"
   ]
  },
  {
   "cell_type": "code",
   "execution_count": 34,
   "metadata": {},
   "outputs": [
    {
     "name": "stdout",
     "output_type": "stream",
     "text": [
      "[[0, 0, 1, 1, 0, 0, 0, 0, 1, 1, 0, 0, 0, 0, 1, 0, 1, 1, 0, 0, 0, 1, 1, 1, 0, 0, 1, 0, 0, 1, 1, 1, 0, 0, 0, 0, 0, 1, 0, 1, 0, 0, 1, 1, 1, 1, 1, 0, 0, 0, 1, 0, 0, 1, 0, 1, 0, 1, 1, 1]]\n"
     ]
    },
    {
     "data": {
      "text/plain": [
       "1"
      ]
     },
     "execution_count": 34,
     "metadata": {},
     "output_type": "execute_result"
    }
   ],
   "source": [
    "#build a schedule for doctors. This is a scheduler that randomly makes the doctor available. We will NOT use this in final code\n",
    "doctor = []\n",
    "for i in range(1):\n",
    "    availability = []\n",
    "    for j in range(60): #put the total days in place of the number here.\n",
    "        availability.append(np.random.randint(0,2)) #they are randomly available on each day.\n",
    "    doctor.append(availability)\n",
    "print(doctor)\n",
    "len(doctor)"
   ]
  },
  {
   "cell_type": "code",
   "execution_count": 5,
   "metadata": {},
   "outputs": [],
   "source": [
    "#Build a schedule of doctor's based on doctor being available for a maximum of 1-day\n",
    "num_docs = 20\n",
    "\n",
    "#Make sure that the doc is available atmost 1 day a week\n",
    "doc_avail_day = [np.random.randint(0,5) for d in range(num_docs)] "
   ]
  },
  {
   "cell_type": "code",
   "execution_count": 6,
   "metadata": {},
   "outputs": [
    {
     "data": {
      "text/plain": [
       "[0, 3, 0, 4, 4, 3, 3, 1, 4, 0, 2, 4, 2, 0, 4, 0, 4, 1, 2, 0]"
      ]
     },
     "execution_count": 6,
     "metadata": {},
     "output_type": "execute_result"
    }
   ],
   "source": [
    "#0-Monday, 1-Tuesday, 2-Wednesday,...\n",
    "doc_avail_day"
   ]
  },
  {
   "cell_type": "code",
   "execution_count": 7,
   "metadata": {},
   "outputs": [],
   "source": [
    "#Build a master schedule for the doctor's availability for 60 days \n",
    "mast_sched_doc = np.array([[int(j%5 == doc_avail_day[d]) for j in range(60)]for d in range(num_docs)]) #Here 60 days is scheduling"
   ]
  },
  {
   "cell_type": "code",
   "execution_count": 8,
   "metadata": {},
   "outputs": [
    {
     "data": {
      "text/plain": [
       "array([[1, 0, 0, ..., 0, 0, 0],\n",
       "       [0, 0, 0, ..., 0, 1, 0],\n",
       "       [1, 0, 0, ..., 0, 0, 0],\n",
       "       ...,\n",
       "       [0, 1, 0, ..., 0, 0, 0],\n",
       "       [0, 0, 1, ..., 1, 0, 0],\n",
       "       [1, 0, 0, ..., 0, 0, 0]])"
      ]
     },
     "execution_count": 8,
     "metadata": {},
     "output_type": "execute_result"
    }
   ],
   "source": [
    "mast_sched_doc"
   ]
  },
  {
   "cell_type": "code",
   "execution_count": 9,
   "metadata": {},
   "outputs": [
    {
     "data": {
      "text/plain": [
       "array([ 0,  0,  0,  0,  0,  0,  0,  0,  0,  0,  1,  1,  2,  2,  2,  2,  3,\n",
       "        3,  3,  3,  4,  4,  4,  4,  4,  4,  5,  5,  5,  6,  6,  6,  6,  6,\n",
       "        6,  7,  7,  7,  7,  8,  8,  9,  9,  9,  9, 10, 10, 10, 10, 10, 10,\n",
       "       10, 11, 11, 11, 11, 11, 11, 12, 12, 12, 12, 12, 12, 13, 13, 13, 14,\n",
       "       14, 14, 14, 14, 14, 15, 15, 15, 15, 16, 16, 16, 17, 17, 17, 17, 17,\n",
       "       17, 17, 18, 18, 18, 18, 18, 19, 19, 19, 19, 19, 20, 20, 20, 20, 21,\n",
       "       21, 21, 21, 21, 21, 22, 22, 22, 22, 22, 23, 23, 23, 23, 24, 24, 24,\n",
       "       24])"
      ]
     },
     "execution_count": 9,
     "metadata": {},
     "output_type": "execute_result"
    }
   ],
   "source": [
    "def make_schedule_d1(num_patients,collections, max_space1, max_days):\n",
    "    #initialize schedules for d1 procedure.  These record the number of patients scheduled for each procedure on each day.\n",
    "    space1 = np.zeros(max_days)\n",
    "    \n",
    "    n1=len(space1)\n",
    "    \n",
    "    #initialize a vector which will keep track of each patient's schedule for d1.\n",
    "    patients_d1 = []\n",
    "    for i in range(num_patients):\n",
    "        for j in range(n1):\n",
    "            #for each patient, we will schedule them in the first available\n",
    "            #time slot for the d1 procedure.\n",
    "            if space1[j]< max_space1: #if there is space in the d1 facility on day j (interpret weeks as 5 days long, 1 is )\n",
    "                for k in range(collections[i]):\n",
    "                    space1[j+k]=space1[j+k]+1 #add patient i to the schedule on day k for each day that they are collecting.\n",
    "                patients_d1.append(j) #record the fact that patient i was scheduled for d1 on day j\n",
    "                break\n",
    "           \n",
    "    return(np.array(patients_d1))\n",
    "\n",
    "d1_pat_schedule = make_schedule_d1(num_pats,C, sp1, 60)\n",
    "d1_pat_schedule"
   ]
  },
  {
   "cell_type": "code",
   "execution_count": 11,
   "metadata": {},
   "outputs": [],
   "source": [
    "def make_schedule_d2_doctors(d1_schedule, collections,doc_sched, max_space2, max_days):\n",
    "    space2 = np.zeros(max_days) #the length of this list is the max number of days \n",
    "    patients2=[] #Initiate a patient list\n",
    "    #make a list assigning a patient to one of the doctors\n",
    "    patient_doc = []\n",
    "    for i in range(len(d1_schedule)):\n",
    "        patient_doc.append(np.random.randint(0,len(doc_sched))) #randomly assigns each patient a doctor\n",
    "    for j, day in enumerate(d1_schedule): #j is keeping track of patients\n",
    "        for k in range(day,max_days-collections[j]): #k is keeping track of the day\n",
    "            #print(space2[k+collections[j]], doc_sched[patient_doc[j]][k])\n",
    "            if space2[k+collections[j]]<8*max_space2 and doc_sched[patient_doc[j]][k]==1: #if there is space and the doc is available\n",
    "                space2[k+collections[j]]+=1\n",
    "                patients2.append(k+collections[j])\n",
    "                break\n",
    "            \n",
    "    return(np.array(patients2))\n",
    "\n"
   ]
  },
  {
   "cell_type": "code",
   "execution_count": 12,
   "metadata": {},
   "outputs": [
    {
     "data": {
      "text/plain": [
       "array([ 8,  4,  2,  5,  6,  1,  4,  4,  6,  4,  4,  5,  6,  6,  6, 10,  6,\n",
       "        6,  5,  9,  6,  8,  9,  8, 10,  6,  7,  6,  9, 10, 12, 15, 10, 10,\n",
       "       13, 12, 10, 13, 11, 11, 13, 12, 15, 13, 11, 15, 16, 12, 16, 14, 11,\n",
       "       11, 15, 13, 15, 20, 16, 14, 15, 18, 15, 16, 15, 18, 15, 14, 19, 17,\n",
       "       17, 18, 19, 18, 17, 17, 22, 19, 22, 17, 18, 21, 20, 21, 20, 22, 22,\n",
       "       23, 21, 21, 21, 21, 20, 23, 25, 27, 22, 21, 26, 26, 21, 21, 24, 25,\n",
       "       25, 28, 23, 25, 30, 30, 26, 26, 23, 28, 25, 28, 28, 30, 29, 26, 26,\n",
       "       28])"
      ]
     },
     "execution_count": 12,
     "metadata": {},
     "output_type": "execute_result"
    }
   ],
   "source": [
    "#Monday- 0 , Tuesday-1, Wednesday-2, Thursday-4, Friday-4, Monday-7\n",
    "d2_pat_schedule = make_schedule_d2_doctors(d1_pat_schedule, C,mast_sched_doc, sp2, 60)\n",
    "d2_pat_schedule"
   ]
  },
  {
   "cell_type": "code",
   "execution_count": 14,
   "metadata": {},
   "outputs": [
    {
     "name": "stdout",
     "output_type": "stream",
     "text": [
      "[4, 3, 0, 3, 2, 0, 1, 0, 2, 2, 1, 3, 3, 2, 3, 5, 2, 3, 1, 4, 2, 4, 6, 3, 6, 3, 1, 0, 2, 2, 4, 6, 1, 1, 5, 4, 2, 5, 3, 2, 4, 4, 6, 2, 3, 4, 4, 1, 4, 0, 0, 0, 3, 1, 3, 6, 4, 0, 2, 5, 1, 2, 2, 5, 1, 0, 4, 2, 3, 3, 6, 5, 3, 0, 3, 1, 4, 0, 1, 4, 2, 3, 2, 3, 3, 5, 3, 2, 3, 3, 1, 4, 5, 5, 3, 2, 6, 4, 0, 0, 3, 1, 3, 4, 0, 3, 6, 6, 3, 3, 0, 5, 1, 4, 4, 4, 6, 3, 3, 4]\n"
     ]
    }
   ],
   "source": [
    "#Let us compute the wait time\n",
    "def wait_time(d1_schedule, d2_schedule, collections):\n",
    "    q1 = []\n",
    "    n = len(d1_schedule)\n",
    "    for i in range(n):\n",
    "        for j in range(collections[i]):\n",
    "            if (d1_schedule[i]+j)%5==4: #if any of the collection days is a Friday\n",
    "                q1.append(d2_schedule[i]-(d1_schedule[i]+collections[i])+2) #add 2 to the wait time.\n",
    "                break\n",
    "            #if none of the collection days is a friday, then the wait time is the difference between the\n",
    "            #d1 end day plus 1 and the d2 start day.  A day of waiting is a day where nothing else happens\n",
    "            elif j==collections[i]-1:\n",
    "                q1.append(d2_schedule[i]-(d1_schedule[i]+collections[i]))\n",
    "    return q1\n",
    "    \n",
    "print(wait_time(d1_pat_schedule,d2_pat_schedule,C))"
   ]
  },
  {
   "cell_type": "code",
   "execution_count": 17,
   "metadata": {},
   "outputs": [],
   "source": [
    "import collections\n",
    "from collections import Counter"
   ]
  },
  {
   "cell_type": "code",
   "execution_count": 77,
   "metadata": {},
   "outputs": [
    {
     "data": {
      "image/png": "[encoded data removed]",
      "text/plain": [
       "<Figure size 576x432 with 1 Axes>"
      ]
     },
     "metadata": {
      "needs_background": "light"
     },
     "output_type": "display_data"
    },
    {
     "data": {
      "text/plain": [
       "Counter({4: 21, 3: 30, 0: 15, 2: 19, 1: 15, 5: 10, 6: 10})"
      ]
     },
     "execution_count": 77,
     "metadata": {},
     "output_type": "execute_result"
    }
   ],
   "source": [
    "#Separate the occurence of each element according to their frequency\n",
    "data = collections.Counter(Counter(wait_time(d1_pat_schedule,d2_pat_schedule,C)))\n",
    "plt.figure(figsize=(8,6))\n",
    "plt.bar(data.keys(), data.values(), width=0.5)\n",
    "plt.xlabel(\"Number of Days\", fontsize=15)\n",
    "plt.ylabel(\"Number of Patients\", fontsize=15)\n",
    "plt.title(\"Patient Wait Time\", fontsize=20)\n",
    "plt.savefig(\"wait_time_bar_plot.png\", transparent=True, bbox_inches='tight')\n",
    "plt.show()\n",
    "data"
   ]
  },
  {
   "cell_type": "code",
   "execution_count": 78,
   "metadata": {},
   "outputs": [
    {
     "data": {
      "image/png": "[encoded data removed]",
      "text/plain": [
       "<Figure size 576x432 with 1 Axes>"
      ]
     },
     "metadata": {
      "needs_background": "light"
     },
     "output_type": "display_data"
    }
   ],
   "source": [
    "#Let us have a lineplot for the above bar graph\n",
    "plt.figure(figsize=(8, 6))\n",
    "sns.lineplot(list(data.keys()), list(data.values()))\n",
    "plt.title(\"Patient Wait Time\", fontsize=20)\n",
    "plt.xlabel(\"Number of Days\", fontsize=15)\n",
    "plt.ylabel(\"Number of Patients\", fontsize=15)\n",
    "#plt.figure(figsize=(20,10)) \n",
    "plt.yticks([0, 5, 10, 15, 20, 25, 30], fontsize=10)\n",
    "plt.savefig(\"wait_time_line_plot.png\", transparent=True, bbox_inches='tight')\n",
    "plt.show()"
   ]
  },
  {
   "cell_type": "code",
   "execution_count": null,
   "metadata": {},
   "outputs": [],
   "source": []
  }
 ],
 "metadata": {
  "kernelspec": {
   "display_name": "Python 3",
   "language": "python",
   "name": "python3"
  },
  "language_info": {
   "codemirror_mode": {
    "name": "ipython",
    "version": 3
   },
   "file_extension": ".py",
   "mimetype": "text/x-python",
   "name": "python",
   "nbconvert_exporter": "python",
   "pygments_lexer": "ipython3",
   "version": "3.7.3"
  }
 },
 "nbformat": 4,
 "nbformat_minor": 2
}
