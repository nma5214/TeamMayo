{
 "cells": [
  {
   "cell_type": "code",
   "execution_count": 1,
   "metadata": {},
   "outputs": [],
   "source": [
    "import numpy as np\n",
    "import random\n",
    "import matplotlib.pyplot as plt \n"
   ]
  },
  {
   "cell_type": "code",
   "execution_count": 33,
   "metadata": {},
   "outputs": [],
   "source": [
    "num_pat_list = [] #10 patients coming in for 10 weeks\n",
    "for i in range(10):\n",
    "    num_pat_list.append(10)\n",
    "sp1=10\n",
    "sp2=3\n",
    "num_pats=sum(num_pat_list) #total is 100 patients\n",
    "\n",
    "#setting the seed\n",
    "np.random.seed(2019)\n",
    "\n",
    "#currently we assume that the patient needs three collections\n",
    "coll = []\n",
    "for i in range(num_pats):\n",
    "    coll.append(3)\n",
    "coll= np.array(coll) \n"
   ]
  },
  {
   "cell_type": "code",
   "execution_count": 34,
   "metadata": {},
   "outputs": [
    {
     "name": "stdout",
     "output_type": "stream",
     "text": [
      "[[0, 0, 1, 1, 0, 0, 0, 0, 1, 1, 0, 0, 0, 0, 1, 0, 1, 1, 0, 0, 0, 1, 1, 1, 0, 0, 1, 0, 0, 1, 1, 1, 0, 0, 0, 0, 0, 1, 0, 1, 0, 0, 1, 1, 1, 1, 1, 0, 0, 0, 1, 0, 0, 1, 0, 1, 0, 1, 1, 1]]\n"
     ]
    },
    {
     "data": {
      "text/plain": [
       "1"
      ]
     },
     "execution_count": 34,
     "metadata": {},
     "output_type": "execute_result"
    }
   ],
   "source": [
    "#build a schedule for doctors\n",
    "doctor = []\n",
    "for i in range(1):\n",
    "    availability = []\n",
    "    for j in range(60): #put the total days in place of the number here.\n",
    "        availability.append(np.random.randint(0,2)) #they are randomly available on each day.\n",
    "    doctor.append(availability)\n",
    "print(doctor)\n",
    "len(doctor)"
   ]
  },
  {
   "cell_type": "code",
   "execution_count": 35,
   "metadata": {},
   "outputs": [
    {
     "data": {
      "text/plain": [
       "array([ 0,  0,  0,  0,  0,  0,  0,  0,  0,  0,  3,  3,  3,  3,  3,  3,  3,\n",
       "        3,  3,  3,  6,  6,  6,  6,  6,  6,  6,  6,  6,  6,  9,  9,  9,  9,\n",
       "        9,  9,  9,  9,  9,  9, 12, 12, 12, 12, 12, 12, 12, 12, 12, 12, 15,\n",
       "       15, 15, 15, 15, 15, 15, 15, 15, 15, 18, 18, 18, 18, 18, 18, 18, 18,\n",
       "       18, 18, 21, 21, 21, 21, 21, 21, 21, 21, 21, 21, 24, 24, 24, 24, 24,\n",
       "       24, 24, 24, 24, 24, 27, 27, 27, 27, 27, 27, 27, 27, 27, 27])"
      ]
     },
     "execution_count": 35,
     "metadata": {},
     "output_type": "execute_result"
    }
   ],
   "source": [
    "def make_schedule_d1(num_patients,collections, max_space1, max_days):\n",
    "    #initialize schedules for d1 procedure.  These record the number of patients scheduled for each procedure on each day.\n",
    "    space1 = np.zeros(max_days)\n",
    "    \n",
    "    n1=len(space1)\n",
    "    \n",
    "    #initialize a vector which will keep track of each patient's schedule for d1.\n",
    "    patients_d1 = []\n",
    "    for i in range(num_patients):\n",
    "        for j in range(n1):\n",
    "            #for each patient, we will schedule them in the first available\n",
    "            #time slot for the d1 procedure.\n",
    "            if space1[j]< max_space1: #if there is space in the d1 facility on day j (interpret weeks as 5 days long, 1 is )\n",
    "                for k in range(collections[i]):\n",
    "                    space1[j+k]=space1[j+k]+1 #add patient i to the schedule on day k for each day that they are collecting.\n",
    "                patients_d1.append(j) #record the fact that patient i was scheduled for d1 on day j\n",
    "                break\n",
    "           \n",
    "    return(np.array(patients_d1))\n",
    "\n",
    "d1_pat_schedule = make_schedule_d1(num_pats,coll, sp1, 60)\n",
    "d1_pat_schedule"
   ]
  },
  {
   "cell_type": "code",
   "execution_count": 36,
   "metadata": {},
   "outputs": [],
   "source": [
    "def make_schedule_d2_doctors(d1_schedule, collections,doc_sched, max_space2, max_days):\n",
    "    space2 = np.zeros(max_days) #the length of this list is the max number of days \n",
    "    patients2=[] #Initiate a patient list\n",
    "    #make a list assigning a patient to one of the doctors\n",
    "    patient_doc = []\n",
    "    for i in range(len(d1_schedule)):\n",
    "        patient_doc.append(np.random.randint(0,len(doc_sched))) #randomly assigns each patient a doctor\n",
    "    for j, day in enumerate(d1_schedule): #j is keeping track of patients\n",
    "        for k in range(day,max_days-collections[j]): #k is keeping track of the day\n",
    "            #print(space2[k+collections[j]], doc_sched[patient_doc[j]][k])\n",
    "            if space2[k+collections[j]]<8*max_space2 and doc_sched[patient_doc[j]][k]==1: #if there is space and the doc is available\n",
    "                space2[k+collections[j]]+=1\n",
    "                patients2.append(k+collections[j])\n",
    "                break\n",
    "            \n",
    "    return(np.array(patients2))\n",
    "\n"
   ]
  },
  {
   "cell_type": "code",
   "execution_count": 37,
   "metadata": {},
   "outputs": [
    {
     "data": {
      "text/plain": [
       "array([ 5,  5,  5,  5,  5,  5,  5,  5,  5,  5,  6,  6,  6,  6,  6,  6,  6,\n",
       "        6,  6,  6, 11, 11, 11, 11, 11, 11, 11, 11, 11, 11, 12, 12, 12, 12,\n",
       "       12, 12, 12, 12, 12, 12, 17, 17, 17, 17, 17, 17, 17, 17, 17, 17, 19,\n",
       "       19, 19, 19, 19, 19, 19, 19, 19, 19, 24, 24, 24, 24, 24, 24, 24, 24,\n",
       "       24, 24, 24, 24, 24, 24, 24, 24, 24, 24, 24, 24, 29, 29, 29, 29, 29,\n",
       "       29, 29, 29, 29, 29, 32, 32, 32, 32, 32, 32, 32, 32, 32, 32])"
      ]
     },
     "execution_count": 37,
     "metadata": {},
     "output_type": "execute_result"
    }
   ],
   "source": [
    "#Monday- 0 , Tuesday-1, Wednesday-2, Thursday-4, Friday-4, Monday-7\n",
    "d2_pat_schedule = make_schedule_d2_doctors(d1_pat_schedule, coll,doctor, sp2, 60)\n",
    "d2_pat_schedule"
   ]
  },
  {
   "cell_type": "code",
   "execution_count": 38,
   "metadata": {},
   "outputs": [
    {
     "name": "stdout",
     "output_type": "stream",
     "text": [
      "[2, 2, 2, 2, 2, 2, 2, 2, 2, 2, 2, 2, 2, 2, 2, 2, 2, 2, 2, 2, 2, 2, 2, 2, 2, 2, 2, 2, 2, 2, 2, 2, 2, 2, 2, 2, 2, 2, 2, 2, 4, 4, 4, 4, 4, 4, 4, 4, 4, 4, 1, 1, 1, 1, 1, 1, 1, 1, 1, 1, 5, 5, 5, 5, 5, 5, 5, 5, 5, 5, 0, 0, 0, 0, 0, 0, 0, 0, 0, 0, 4, 4, 4, 4, 4, 4, 4, 4, 4, 4, 4, 4, 4, 4, 4, 4, 4, 4, 4, 4]\n"
     ]
    }
   ],
   "source": [
    "#Let us compute the wait time\n",
    "def wait_time(d1_schedule, d2_schedule, collections):\n",
    "    q1 = []\n",
    "    n = len(d1_schedule)\n",
    "    for i in range(n):\n",
    "        for j in range(collections[i]):\n",
    "            if (d1_schedule[i]+j)%5==4: #if any of the collection days is a Friday\n",
    "                q1.append(d2_schedule[i]-(d1_schedule[i]+collections[i])+2) #add 2 to the wait time.\n",
    "                break\n",
    "            #if none of the collection days is a friday, then the wait time is the difference between the\n",
    "            #d1 end day plus 1 and the d2 start day.  A day of waiting is a day where nothing else happens\n",
    "            elif j==collections[i]-1:\n",
    "                q1.append(d2_schedule[i]-(d1_schedule[i]+collections[i]))\n",
    "    return q1\n",
    "    \n",
    "print(wait_time(d1_pat_schedule,d2_pat_schedule,coll))"
   ]
  },
  {
   "cell_type": "code",
   "execution_count": null,
   "metadata": {},
   "outputs": [],
   "source": []
  }
 ],
 "metadata": {
  "kernelspec": {
   "display_name": "Python 3",
   "language": "python",
   "name": "python3"
  },
  "language_info": {
   "codemirror_mode": {
    "name": "ipython",
    "version": 3
   },
   "file_extension": ".py",
   "mimetype": "text/x-python",
   "name": "python",
   "nbconvert_exporter": "python",
   "pygments_lexer": "ipython3",
   "version": "3.7.3"
  }
 },
 "nbformat": 4,
 "nbformat_minor": 2
}
