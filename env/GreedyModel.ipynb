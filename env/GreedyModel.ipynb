{
 "cells": [
  {
   "cell_type": "code",
   "execution_count": 993,
   "metadata": {},
   "outputs": [],
   "source": [
    "import gym\n",
    "from gym import spaces\n",
    "import numpy as np\n",
    "import matplotlib.patches as mpatches\n",
    "import matplotlib.pyplot as plt\n",
    "\n",
    "#Make sure that the weekend logic in updateQ1 is correct\n",
    "#Changed Q1\n",
    "#changed a bug in matrix2 scheduling\n",
    "\n",
    "\n",
    "''' Variables:\n",
    "Days: total number of days to be scheduled for D1 and D2\n",
    "SLOTS1: available number of spots for process 1 (D1)\n",
    "SLOTS2: available number of spots for prcess 2 (D2) = SLOTS1 * 8\n",
    "COLLECTIONS: number of days needed for D1 (to collect the stem cells)\n",
    "NEXT_DAY_P: the probability that the next patient will be starting in the next day\n",
    "'''\n",
    "DAYS = 120 # number of days the model spans\n",
    "SLOTS1 = 12 # number of avaiblable room per day for process 1\n",
    "SLOTS2 = 3 * 8 # number of available room per day for process 2. We need to multiply work hour 8\n",
    "COLLECTIONS = 5 # the max number of collections a patient needs\n",
    "NEXT_DAY_P = .5 # the probability that the current day has been passed and we will start a new day\n",
    "                # E(x) = np suppose everyday there will be 2 patients, then np=520/2. since n = 52*5, then p =\n",
    "\n",
    "class TwoSchechEnv(gym.Env): #set up the environment\n",
    "\n",
    "    metadata = {'render.mode': ['human']}\n",
    "\n",
    "    def __init__(self):\n",
    "\n",
    "        # daily scheduled patient numbers for D1\n",
    "        self.sched1 = np.zeros(DAYS)\n",
    "        # daily scheduled patient numbers for D2\n",
    "        self.sched2 = np.zeros(DAYS)\n",
    "\n",
    "        # Number of collection days needed for current patient\n",
    "        self.currentpatient_collection_day = np.random.choice(np.arange(1, COLLECTIONS+1), p=[0.4, 0.3, 0.15, 0.09, 0.06])\n",
    "\n",
    "        # Current Day\n",
    "        self.current_day = 0\n",
    "\n",
    "        '''Observation Space\n",
    "        '''\n",
    "        # shape[0] : current day\n",
    "        # shape[1] : patient collection number\n",
    "        # shape[2: 1+DAYS] : schedule for D1\n",
    "        # shape[2+DAYS : ] : schedule for D2\n",
    "        shape_length = 1 + 1 + DAYS + DAYS\n",
    "\n",
    "        # ??each column of the obs_space contains the information of current_day, collection_number, schedule_D1, schedule_D2\n",
    "        self.observation_space = spaces.Box(low = 0 , high = SLOTS1, shape = (2+DAYS+DAYS,), dtype = int)\n",
    "\n",
    "        '''Action Space (D1, D2)\n",
    "        '''\n",
    "        self.action_space = spaces.MultiDiscrete([DAYS,DAYS])\n",
    "\n",
    "\n",
    "        '''Internal variables we use to build the schedule\n",
    "        '''\n",
    "        # Initialize the patient number/index\n",
    "        self.patient_index = 1\n",
    "        # Matrix for sched1 and sched2\n",
    "        self.MatrixSched1 = np.zeros((DAYS, SLOTS1))\n",
    "        self.MatrixSched2 = np.zeros((DAYS, SLOTS2))\n",
    "        self.Q1 = np.array([])\n",
    "\n",
    "        self.end_day = 0 #???\n",
    "        # remianing Slots\n",
    "        self.remainingSlots1 = DAYS * SLOTS1\n",
    "        self.remainingSlots2 = DAYS * SLOTS2\n",
    "\n",
    "        # Counting variabels\n",
    "        self.overlap_count = 0\n",
    "        self.total_reward = 0\n",
    "        #self.two_weeks_violations = 0\n",
    "\n",
    "\n",
    "\n",
    "    def step(self,action):\n",
    "        # Tranistion returns A Boolean value, depending on whether scheduling happened\n",
    "        schedled = self.Transition(action)\n",
    "        # Reward returns reward value for each action based on whether scheduling happened\n",
    "        reward = self.Reward(action,schedled)\n",
    "        self.total_reward += reward\n",
    "        # makeObs updates the observatoin space\n",
    "        obs = self.makeObs()\n",
    "        # done function check whether\n",
    "        done = self.done\n",
    "        return obs, reward, done, {}\n",
    "\n",
    "    def reset(self):\n",
    "        # same as __init__ ftn\n",
    "        self.sched1 = np.zeros(DAYS)\n",
    "        self.sched2 = np.zeros(DAYS)\n",
    "        self.currentpatient_collection_day = np.random.choice(np.arange(1, COLLECTIONS+1), p=[0.4, 0.3, 0.15, 0.09, 0.06])\n",
    "        self.current_day = 0\n",
    "        self.patient_index = 0 # patient index\n",
    "        self.MatrixSched1 = np.zeros((DAYS,SLOTS1))\n",
    "        self.MatrixSched2 = np.zeros((DAYS,SLOTS2  ))\n",
    "        self.Q1 = np.array([])\n",
    "        self.end_day = 0\n",
    "        self.remainingSlots1 = DAYS * SLOTS1\n",
    "        self.remainingSlots2 = DAYS * SLOTS2 * 9\n",
    "        self.overlap_count = 0\n",
    "        self.total_reward = 0\n",
    "        #self.two_weeks_violations = 0\n",
    "\n",
    "        obs = self.makeObs() # should we also initialize the observation space??\n",
    "        return obs\n",
    "\n",
    "    # Print out results\n",
    "    def render(self, mode = 0, factor = 2):\n",
    "        if(mode == 0):\n",
    "            print(\"sched1:\")\n",
    "            print(self.MatrixSched1)\n",
    "            print(\"sched2:\")\n",
    "            print(self.MatrixSched2)\n",
    "            print(\"Current day\", self.current_day)\n",
    "            print(\"Collection day\", self.currentpatient_collection_day)\n",
    "            print(\"Threre are \", self.overlap_count, \"overlaps\")\n",
    "            print(\"Patient Index:\",self.patient_index)\n",
    "            print(\"total reward:\", self.total_reward)\n",
    "            print(\"Slots1 remaining:\", self.remainingSlots1)\n",
    "            print(\"Slots2 remaining:\", self.remainingSlots2)\n",
    "        \n",
    "        \n",
    "        elif(mode == 1):\n",
    "            \n",
    "            \n",
    "            blue_patch = mpatches.Patch(color='blue', label='Stem Collections')\n",
    "            orange_patch = mpatches.Patch(color='orange', label='PreChemo')\n",
    "\n",
    "\n",
    "            fig = plt.figure()\n",
    "            \n",
    "            plt.bar(np.arange(DAYS),env.sched1)\n",
    "            plt.bar(np.arange(DAYS),env.sched2)\n",
    "            plt.axis([0,DAYS/factor, 0,12])\n",
    "            plt.xlabel(\"Days\")\n",
    "            plt.ylabel(\"Total D2 vs Total D1\")\n",
    "            plt.legend(handles =[blue_patch, orange_patch])\n",
    "            plt.title(\"Patients Scheduled= {}; Days = {}\".format(self.patient_index, self.current_day))\n",
    "            return fig\n",
    "        \n",
    "        elif(mode == 2):\n",
    "            blue_patch = mpatches.Patch(color='blue', label='Stem Collections')\n",
    "            fig = plt.figure()\n",
    "            \n",
    "            plt.bar(np.arange(DAYS),env.sched1)\n",
    "            plt.axis([0,DAYS/factor, 0,12])\n",
    "            plt.xlabel(\"Days\")\n",
    "            plt.ylabel(\"Total D1\")\n",
    "            plt.title(\"Patients Scheduled= {}; Days = {}\".format(self.patient_index, self.current_day))\n",
    "            return fig\n",
    "        \n",
    "        elif(mode == 3):\n",
    "            fig = plt.figure()\n",
    "            \n",
    "            plt.bar(np.arange(DAYS),env.sched2, color='orange')\n",
    "            plt.axis([0,DAYS/factor, 0,12])\n",
    "            plt.xlabel(\"Days\")\n",
    "            plt.ylabel(\"Total D2\")\n",
    "            plt.title(\"Patients Scheduled= {}; Days = {}\".format(self.patient_index, self.current_day))\n",
    "            return fig\n",
    "        else:\n",
    "            plt.hist(env.Q1);\n",
    "            plt.show()\n",
    "    #************************ Foramting Logic ******************************\"\"\"\n",
    "\n",
    "\n",
    "    # Makes an observation in the observation space format\n",
    "    def makeObs(self):\n",
    "        return np.concatenate([np.array([self.current_day]), np.array([self.currentpatient_collection_day]), self.sched1,\n",
    "                              self.sched2])\n",
    "\n",
    "    #  Tells us when to stop, return True or False\n",
    "    '''need to be fixed'''\n",
    "    def done(self):\n",
    "        if (self.current_day == DAYS or self.remainingSlots1 < self.currentpatient_collection_day):\n",
    "            return True\n",
    "        else:\n",
    "            return False\n",
    "\n",
    "    #********************************Transition Logic**************************************\"\"\"\n",
    "\n",
    "\n",
    "    def Transition(self,action):\n",
    "        #Returns boolean depending on whither scheduling happend or not\n",
    "        scheduled = self.updateSched(action)\n",
    "        \n",
    "        d1 = action[0]\n",
    "        d2 = action[1]\n",
    "        self.updateInternalStates(d1, d2,scheduled)\n",
    "\n",
    "        #self.updateInternalStates(action)\n",
    "        self.updateObservations(action, scheduled)\n",
    "        \n",
    "        \n",
    "\n",
    "    def updateSched(self,action):\n",
    "        d1 = action[0]\n",
    "        d2 = action[1]\n",
    "        collection_num = self.currentpatient_collection_day\n",
    "        D1_full = self.checkD1(d1, collection_num) # check whether collection period in D1 is full or not\n",
    "\n",
    "        if (d1 < self.current_day) or (d2 < self.current_day): # out of total days' range\n",
    "            return False\n",
    "        elif (d1 + collection_num > d2 ): # day2 < day1 + collection# overlap MISTAKE HERE: REVERSE INEQUALITY\n",
    "            self.overlap_count += 1\n",
    "            return False\n",
    "        elif  D1_full or self.sched2[d2] >= SLOTS2 or (d1 + collection_num >= DAYS): # do we need this?\n",
    "            \n",
    "            return False\n",
    "        else: # other overbook case\n",
    "            return True\n",
    "\n",
    "    def checkD1(self, d1, collection_num): #returns True if any day is full, else False\n",
    "        if d1 + collection_num >= DAYS:\n",
    "            return True\n",
    "        else:\n",
    "            for i in range(collection_num):\n",
    "                if self.sched1[d1+i] >= SLOTS1: # check whether this day is fully schedled\n",
    "                    return True\n",
    "            return False\n",
    "\n",
    "\n",
    "    '''Internal updateEndOfDay when scheled successfully\n",
    "    '''\n",
    "    def updateInternalStates(self, d1, d2, scheduled):\n",
    "        if(scheduled):\n",
    "            self.updateMatrix(d1,d2)\n",
    "            self.updateQ1(d1,d2)\n",
    "            self.updateEndOfDay()\n",
    "            self.updateRemainingSlots(d1)\n",
    "            self.patient_index += 1 # go to next patient ??\n",
    "\n",
    "\n",
    "    def updateMatrix(self, d1, d2):\n",
    "        #for each collection day of D1, we need to find an empty slot to schedule\n",
    "        for day in range(self.currentpatient_collection_day):\n",
    "            for i in range(SLOTS1):\n",
    "                if (self.MatrixSched1[d1+day][i]) == 0: # when the slot is empty\n",
    "                    self.MatrixSched1[d1+day][i] = self.patient_index #update patien index\n",
    "                    break\n",
    "\n",
    "        for i in range(SLOTS2):\n",
    "            if (self.MatrixSched2[d2][i]) == 0: # when the slot is empty\n",
    "                self.MatrixSched2[d2][i] = self.patient_index #update patient index\n",
    "                break\n",
    "\n",
    "    def updateQ1(self, d1, d2):  #needs modification to make it correct, adjust for more than one week\n",
    "        weekend = 0 \n",
    "        if((d1 +self.currentpatient_collection_day) % 5 == 0 ):\n",
    "            weekend = 2\n",
    "        self.Q1 = np.append(self.Q1, [d2-d1-self.currentpatient_collection_day + weekend])\n",
    "\n",
    "    def updateRemainingSlots(self, d1):\n",
    "        self.remainingSlots1 -= (1 * self.currentpatient_collection_day + (SLOTS1-self.sched1[d1])*self.end_day)\n",
    "        self.remainingSlots2 -= 1\n",
    "\n",
    "    def updateEndOfDay(self):\n",
    "        self.end_day = np.random.binomial(1, NEXT_DAY_P)\n",
    "\n",
    "    '''Agent updates'''\n",
    "    def updateObservations(self, action, schedled):\n",
    "        self.updatesched(action,schedled)\n",
    "        self.updateCurrentday(schedled)\n",
    "        self.updateCollectionday(schedled)\n",
    "\n",
    "\n",
    "    def updatesched(self, action, schedled):\n",
    "        if schedled:\n",
    "            for i in range(self.currentpatient_collection_day):\n",
    "                self.sched1[action[0]+i] += 1 # we need to update for all collection days\n",
    "            self.sched2[action[1]] += 1\n",
    "\n",
    "    def updateCurrentday(self, schedled):\n",
    "        if schedled:\n",
    "            self.end_day = np.random.binomial(1, NEXT_DAY_P)\n",
    "            self.current_day += self.end_day\n",
    "\n",
    "    def updateCollectionday(self, schedled):\n",
    "        if schedled:\n",
    "            self.currentpatient_collection_day = np.random.choice(np.arange(1, COLLECTIONS+1), p=[0.4, 0.3, 0.15, 0.09, 0.06])\n",
    "#********************************** Reward Logic ***************************************\"\"\"\n",
    "\n",
    "    def Reward(self,action,scheduled):\n",
    "        return self.SlotReward(action,scheduled) + self.QReward(action,scheduled)\n",
    "\n",
    "    def SlotReward(self,action,scheduled):\n",
    "        if scheduled:\n",
    "            return 15.0\n",
    "        else:\n",
    "            return -3 # talk about it later\n",
    "\n",
    "    def QReward(self,action,scheduled):\n",
    "        if scheduled:\n",
    "            return 10.0 * self.currentpatient_collection_day*1.0/(action[1]-action[0])\n",
    "        return 0.0\n",
    "    \n",
    "    def FlucReward(self, action):\n",
    "        pass"
   ]
  },
  {
   "cell_type": "code",
   "execution_count": 994,
   "metadata": {},
   "outputs": [],
   "source": [
    "env = TwoSchechEnv()"
   ]
  },
  {
   "cell_type": "code",
   "execution_count": 880,
   "metadata": {},
   "outputs": [],
   "source": [
    "#Random Algo\n",
    "obs = env.reset()\n",
    "done = False\n",
    "step = 0\n",
    "while ((not done) and step < 5000):\n",
    "    step += 1\n",
    "    action = env.action_space.sample()\n",
    "    env.step(action)\n",
    "    done = env.done()\n",
    "   "
   ]
  },
  {
   "cell_type": "code",
   "execution_count": 883,
   "metadata": {
    "scrolled": true
   },
   "outputs": [
    {
     "data": {
      "image/png": "[encoded data removed]",
      "text/plain": [
       "<Figure size 432x288 with 1 Axes>"
      ]
     },
     "execution_count": 883,
     "metadata": {},
     "output_type": "execute_result"
    },
    {
     "data": {
      "image/png": "[encoded data removed]",
      "text/plain": [
       "<Figure size 432x288 with 1 Axes>"
      ]
     },
     "metadata": {
      "needs_background": "light"
     },
     "output_type": "display_data"
    }
   ],
   "source": [
    "env.render(1,1)"
   ]
  },
  {
   "cell_type": "code",
   "execution_count": 884,
   "metadata": {},
   "outputs": [
    {
     "data": {
      "image/png": "[encoded data removed]",
      "text/plain": [
       "<Figure size 432x288 with 1 Axes>"
      ]
     },
     "metadata": {
      "needs_background": "light"
     },
     "output_type": "display_data"
    }
   ],
   "source": [
    "env.render(2)"
   ]
  },
  {
   "cell_type": "code",
   "execution_count": 885,
   "metadata": {},
   "outputs": [
    {
     "data": {
      "text/plain": [
       "array([ 0.,  0.,  0.,  0.,  0.,  0.,  0.,  0.,  0.,  0.,  0.,  0.,  0.,\n",
       "        0.,  0.,  0.,  0.,  0.,  0.,  0.,  0.,  0.,  0.,  0.,  0.,  0.,\n",
       "        0.,  0.,  0.,  0.,  0.,  0.,  0.,  0.,  1.,  0.,  0.,  1.,  0.,\n",
       "        0.,  0.,  1.,  0.,  2.,  0.,  0.,  1.,  1.,  0.,  2.,  1.,  2.,\n",
       "        0.,  0.,  0.,  0.,  2.,  1.,  1.,  1.,  2.,  1.,  1.,  0.,  2.,\n",
       "        0.,  1.,  0.,  2.,  1.,  2.,  0.,  1.,  0.,  3.,  1.,  1.,  0.,\n",
       "        0.,  0.,  3.,  3.,  1.,  4.,  2.,  3.,  1.,  5.,  2.,  1.,  1.,\n",
       "        1.,  3.,  2.,  1.,  7.,  2.,  4.,  4.,  3.,  6.,  2.,  7.,  6.,\n",
       "        4.,  1.,  7.,  1.,  4.,  8.,  4., 11.,  8.,  6.,  7., 12.,  8.,\n",
       "        9., 11.,  6.])"
      ]
     },
     "execution_count": 885,
     "metadata": {},
     "output_type": "execute_result"
    }
   ],
   "source": [
    "env.sched2"
   ]
  },
  {
   "cell_type": "code",
   "execution_count": 886,
   "metadata": {},
   "outputs": [
    {
     "data": {
      "text/plain": [
       "70"
      ]
     },
     "execution_count": 886,
     "metadata": {},
     "output_type": "execute_result"
    }
   ],
   "source": [
    "5*13 + 5"
   ]
  },
  {
   "cell_type": "code",
   "execution_count": 392,
   "metadata": {},
   "outputs": [],
   "source": [
    "#Greedy Algo Step\n",
    "#Make sure that pateints don't have stem collections over weekend\n",
    "def greedyStep(env):\n",
    "    sched = False\n",
    "    for d1 in range(env.current_day,DAYS):\n",
    "        for d2 in range(d1 + env.currentpatient_collection_day, DAYS):\n",
    "            if(env.sched1[d1] < SLOTS1 and env.sched2[d2] < SLOTS2 and d1 >= env.current_day ):\n",
    "                return np.array([d1,d2])\n",
    "                \n",
    "            \n",
    "            "
   ]
  },
  {
   "cell_type": "code",
   "execution_count": 393,
   "metadata": {},
   "outputs": [],
   "source": [
    "def greedyStep2(env,q):\n",
    "    sched = False\n",
    "    for d1 in range(env.current_day,DAYS):\n",
    "        for i in range(q):\n",
    "            if(env.sched1[d1] < SLOTS1 and env.sched2[d1 +env.currentpatient_collection_day+i] < SLOTS2 and d1 >= env.current_day and (d1%5) + env.currentpatient_collection_day <= 5):\n",
    "                return np.array([d1,d1+env.currentpatient_collection_day+i])"
   ]
  },
  {
   "cell_type": "code",
   "execution_count": 1011,
   "metadata": {},
   "outputs": [],
   "source": [
    "#Modified Greedy Algorithm, we need \n",
    "def modGreedyStep(env, window1, window2, back1 = True, back2 = True ):\n",
    "    sched = False\n",
    "    if(back1):\n",
    "        start1 = -window1 +1\n",
    "    else:\n",
    "        start1 = 0\n",
    "    \n",
    "    if(back2):\n",
    "        start2 = -window2+1\n",
    "    else:\n",
    "        start2 = 0\n",
    "        \n",
    "        \n",
    "    for d1 in range(env.current_day,DAYS):\n",
    "        for d2 in range(d1 + env.currentpatient_collection_day, DAYS):\n",
    "            if(env.sched1[d1] < SLOTS1 and env.sched2[d2] < SLOTS2 and d1 >= env.current_day and (d1%5) + env.currentpatient_collection_day <=5 ):\n",
    "                min_d1 = d1\n",
    "                i = start1\n",
    "                \n",
    "                while(i < window1):\n",
    "                    if(d1+i + env.currentpatient_collection_day+1 < DAYS):\n",
    "                        if(env.sched1[min_d1] > env.sched1[d1+i]  and d1+i >= env.current_day and(d1+i)%5 + env.currentpatient_collection_day <= 5):\n",
    "                            min_d1 = d1+i\n",
    "                        \n",
    "                    i += 1\n",
    "                \n",
    "                \n",
    "                \n",
    "                d2 += (min_d1 - d1)\n",
    "                min_d2 = d2 \n",
    "                j = start2\n",
    "                while (j < window2):\n",
    "                    if(d2 + j < DAYS):\n",
    "                        if(env.sched2[min_d2] > env.sched2[d2+j] and env.sched2[d2+j] < SLOTS2 and d2+ j >= min_d1+env.currentpatient_collection_day):\n",
    "                            min_d2 = d2+j\n",
    "                            \n",
    "                    j += 1\n",
    "                \n",
    "                \n",
    "                return np.array([min_d1,min_d2])"
   ]
  },
  {
   "cell_type": "code",
   "execution_count": 1024,
   "metadata": {
    "scrolled": true
   },
   "outputs": [],
   "source": [
    "obs = env.reset()\n"
   ]
  },
  {
   "cell_type": "code",
   "execution_count": 1025,
   "metadata": {},
   "outputs": [],
   "source": [
    "#ModGreedy Algo\n",
    "time = 1000\n",
    "step = 0\n",
    "actions = []\n",
    "img = []\n",
    "window1 =7\n",
    "window2 = 3\n",
    "while step < time and env.current_day <=59:\n",
    "    action =  modGreedyStep(env,window1,window2,False, False)\n",
    "    actions.append(action)\n",
    "    env.step(action)\n",
    "    step +=1\n",
    "    "
   ]
  },
  {
   "cell_type": "code",
   "execution_count": 1026,
   "metadata": {
    "scrolled": true
   },
   "outputs": [
    {
     "data": {
      "image/png": "[encoded data removed]",
      "text/plain": [
       "<Figure size 432x288 with 1 Axes>"
      ]
     },
     "execution_count": 1026,
     "metadata": {},
     "output_type": "execute_result"
    },
    {
     "data": {
      "image/png": "[encoded data removed]",
      "text/plain": [
       "<Figure size 432x288 with 1 Axes>"
      ]
     },
     "metadata": {
      "needs_background": "light"
     },
     "output_type": "display_data"
    }
   ],
   "source": [
    "env.render(2,1.6)"
   ]
  },
  {
   "cell_type": "code",
   "execution_count": 1027,
   "metadata": {},
   "outputs": [
    {
     "data": {
      "image/png": "[encoded data removed]",
      "text/plain": [
       "<Figure size 432x288 with 1 Axes>"
      ]
     },
     "execution_count": 1027,
     "metadata": {},
     "output_type": "execute_result"
    },
    {
     "data": {
      "image/png": "[encoded data removed]",
      "text/plain": [
       "<Figure size 432x288 with 1 Axes>"
      ]
     },
     "metadata": {
      "needs_background": "light"
     },
     "output_type": "display_data"
    }
   ],
   "source": [
    "env.render(3,1.6)"
   ]
  },
  {
   "cell_type": "code",
   "execution_count": 1029,
   "metadata": {},
   "outputs": [
    {
     "data": {
      "image/png": "[encoded data removed]",
      "text/plain": [
       "<Figure size 432x288 with 1 Axes>"
      ]
     },
     "metadata": {
      "needs_background": "light"
     },
     "output_type": "display_data"
    },
    {
     "data": {
      "text/plain": [
       "array([0., 0., 0., 0., 2., 0., 2., 0., 3., 2., 0., 4., 0., 0., 2., 3., 0.,\n",
       "       2., 4., 2., 1., 3., 2., 4., 0., 1., 0., 0., 2., 3., 0., 4., 1., 3.,\n",
       "       4., 2., 2., 0., 1., 2., 2., 0., 4., 0., 1., 0., 0., 0., 4., 3., 0.,\n",
       "       1., 2., 0., 2., 1., 3., 0., 3., 4., 1., 2., 2., 2., 0., 0., 4., 0.,\n",
       "       2., 0., 0., 1., 3., 3., 2., 1., 0., 4., 3., 4., 2., 1., 2., 0., 2.,\n",
       "       3., 0., 0., 0., 4., 0., 2., 2., 2., 3., 3., 4., 0., 1., 1., 2., 0.,\n",
       "       2., 2., 4., 2., 2., 1., 0., 0., 0., 2., 0., 4., 2., 1., 0.])"
      ]
     },
     "execution_count": 1029,
     "metadata": {},
     "output_type": "execute_result"
    }
   ],
   "source": [
    "env.render(4)\n",
    "env.Q1"
   ]
  },
  {
   "cell_type": "code",
   "execution_count": 1017,
   "metadata": {},
   "outputs": [],
   "source": [
    "obs = env.reset()"
   ]
  },
  {
   "cell_type": "code",
   "execution_count": 1018,
   "metadata": {
    "scrolled": false
   },
   "outputs": [],
   "source": [
    "#Greedy Algo\n",
    "time = 1000\n",
    "step = 0\n",
    "actions = []\n",
    "img = []\n",
    "while step < time and env.current_day <=59:\n",
    "    action = greedyStep2(env,4)\n",
    "    actions.append(action)\n",
    "    env.step(action)\n",
    "    step +=1\n",
    "    "
   ]
  },
  {
   "cell_type": "code",
   "execution_count": 1019,
   "metadata": {},
   "outputs": [
    {
     "data": {
      "image/png": "[encoded data removed]",
      "text/plain": [
       "<Figure size 432x288 with 1 Axes>"
      ]
     },
     "execution_count": 1019,
     "metadata": {},
     "output_type": "execute_result"
    },
    {
     "data": {
      "image/png": "[encoded data removed]",
      "text/plain": [
       "<Figure size 432x288 with 1 Axes>"
      ]
     },
     "metadata": {
      "needs_background": "light"
     },
     "output_type": "display_data"
    }
   ],
   "source": [
    "env.render(2,1.6)"
   ]
  },
  {
   "cell_type": "code",
   "execution_count": 1020,
   "metadata": {},
   "outputs": [
    {
     "data": {
      "image/png": "[encoded data removed]",
      "text/plain": [
       "<Figure size 432x288 with 1 Axes>"
      ]
     },
     "execution_count": 1020,
     "metadata": {},
     "output_type": "execute_result"
    },
    {
     "data": {
      "image/png": "[encoded data removed]",
      "text/plain": [
       "<Figure size 432x288 with 1 Axes>"
      ]
     },
     "metadata": {
      "needs_background": "light"
     },
     "output_type": "display_data"
    }
   ],
   "source": [
    "env.render(3,1.6)"
   ]
  },
  {
   "cell_type": "code",
   "execution_count": 1023,
   "metadata": {},
   "outputs": [
    {
     "data": {
      "image/png": "[encoded data removed]",
      "text/plain": [
       "<Figure size 432x288 with 1 Axes>"
      ]
     },
     "metadata": {
      "needs_background": "light"
     },
     "output_type": "display_data"
    },
    {
     "data": {
      "text/plain": [
       "array([0., 2., 0., 0., 0., 2., 0., 0., 2., 2., 2., 2., 2., 0., 0., 0., 0.,\n",
       "       0., 0., 2., 0., 0., 2., 0., 0., 2., 2., 0., 0., 2., 0., 2., 2., 2.,\n",
       "       0., 0., 0., 0., 0., 0., 0., 0., 0., 0., 0., 2., 0., 2., 0., 0., 0.,\n",
       "       0., 0., 0., 2., 0., 0., 2., 2., 0., 2., 0., 0., 2., 0., 0., 0., 0.,\n",
       "       0., 0., 2., 2., 0., 0., 0., 0., 0., 0., 0., 0., 0., 0., 2., 0., 0.,\n",
       "       0., 2., 0., 0., 2., 2., 0., 0., 0., 0., 0., 0., 0., 0., 2., 0., 2.,\n",
       "       2., 0., 0., 0., 0., 0., 0., 0., 0., 0., 0., 0., 2., 0., 2., 2., 0.,\n",
       "       0., 0., 0., 0., 2., 0., 0., 0.])"
      ]
     },
     "execution_count": 1023,
     "metadata": {},
     "output_type": "execute_result"
    }
   ],
   "source": [
    "env.render(4)\n"
   ]
  },
  {
   "cell_type": "code",
   "execution_count": 1022,
   "metadata": {},
   "outputs": [
    {
     "data": {
      "text/plain": [
       "array([0., 2., 0., 0., 0., 2., 0., 0., 2., 2., 2., 2., 2., 0., 0., 0., 0.,\n",
       "       0., 0., 2., 0., 0., 2., 0., 0., 2., 2., 0., 0., 2., 0., 2., 2., 2.,\n",
       "       0., 0., 0., 0., 0., 0., 0., 0., 0., 0., 0., 2., 0., 2., 0., 0., 0.,\n",
       "       0., 0., 0., 2., 0., 0., 2., 2., 0., 2., 0., 0., 2., 0., 0., 0., 0.,\n",
       "       0., 0., 2., 2., 0., 0., 0., 0., 0., 0., 0., 0., 0., 0., 2., 0., 0.,\n",
       "       0., 2., 0., 0., 2., 2., 0., 0., 0., 0., 0., 0., 0., 0., 2., 0., 2.,\n",
       "       2., 0., 0., 0., 0., 0., 0., 0., 0., 0., 0., 0., 2., 0., 2., 2., 0.,\n",
       "       0., 0., 0., 0., 2., 0., 0., 0.])"
      ]
     },
     "execution_count": 1022,
     "metadata": {},
     "output_type": "execute_result"
    }
   ],
   "source": [
    "env.Q1"
   ]
  },
  {
   "cell_type": "code",
   "execution_count": 665,
   "metadata": {},
   "outputs": [],
   "source": [
    "import matplotlib.cm as cm "
   ]
  },
  {
   "cell_type": "code",
   "execution_count": 713,
   "metadata": {},
   "outputs": [
    {
     "data": {
      "image/png": "[encoded data removed]",
      "text/plain": [
       "<Figure size 432x288 with 1 Axes>"
      ]
     },
     "execution_count": 713,
     "metadata": {},
     "output_type": "execute_result"
    }
   ],
   "source": [
    "img[10]"
   ]
  },
  {
   "cell_type": "code",
   "execution_count": 735,
   "metadata": {},
   "outputs": [],
   "source": [
    "import os\n",
    "folder = \"/home/nma5214/Desktop/IMA/Bone_Project/pics\""
   ]
  },
  {
   "cell_type": "code",
   "execution_count": 743,
   "metadata": {},
   "outputs": [],
   "source": [
    "def generate_video(img):\n",
    "    for i in range(len(img)):\n",
    "        plt.plot(img[i])\n",
    "        plt.savefig(folder + \"/file%02d.png\" % i)\n"
   ]
  },
  {
   "cell_type": "code",
   "execution_count": 744,
   "metadata": {},
   "outputs": [
    {
     "ename": "TypeError",
     "evalue": "float() argument must be a string or a number, not 'Figure'",
     "output_type": "error",
     "traceback": [
      "\u001b[0;31m---------------------------------------------------------------------------\u001b[0m",
      "\u001b[0;31mTypeError\u001b[0m                                 Traceback (most recent call last)",
      "\u001b[0;32m<ipython-input-744-4fc09cb6bb2f>\u001b[0m in \u001b[0;36m<module>\u001b[0;34m\u001b[0m\n\u001b[0;32m----> 1\u001b[0;31m \u001b[0mgenerate_video\u001b[0m\u001b[0;34m(\u001b[0m\u001b[0mimg\u001b[0m\u001b[0;34m)\u001b[0m\u001b[0;34m\u001b[0m\u001b[0;34m\u001b[0m\u001b[0m\n\u001b[0m",
      "\u001b[0;32m<ipython-input-743-3a46969d077a>\u001b[0m in \u001b[0;36mgenerate_video\u001b[0;34m(img)\u001b[0m\n\u001b[1;32m      1\u001b[0m \u001b[0;32mdef\u001b[0m \u001b[0mgenerate_video\u001b[0m\u001b[0;34m(\u001b[0m\u001b[0mimg\u001b[0m\u001b[0;34m)\u001b[0m\u001b[0;34m:\u001b[0m\u001b[0;34m\u001b[0m\u001b[0;34m\u001b[0m\u001b[0m\n\u001b[1;32m      2\u001b[0m     \u001b[0;32mfor\u001b[0m \u001b[0mi\u001b[0m \u001b[0;32min\u001b[0m \u001b[0mrange\u001b[0m\u001b[0;34m(\u001b[0m\u001b[0mlen\u001b[0m\u001b[0;34m(\u001b[0m\u001b[0mimg\u001b[0m\u001b[0;34m)\u001b[0m\u001b[0;34m)\u001b[0m\u001b[0;34m:\u001b[0m\u001b[0;34m\u001b[0m\u001b[0;34m\u001b[0m\u001b[0m\n\u001b[0;32m----> 3\u001b[0;31m         \u001b[0mplt\u001b[0m\u001b[0;34m.\u001b[0m\u001b[0mplot\u001b[0m\u001b[0;34m(\u001b[0m\u001b[0mimg\u001b[0m\u001b[0;34m[\u001b[0m\u001b[0mi\u001b[0m\u001b[0;34m]\u001b[0m\u001b[0;34m)\u001b[0m\u001b[0;34m\u001b[0m\u001b[0;34m\u001b[0m\u001b[0m\n\u001b[0m\u001b[1;32m      4\u001b[0m         \u001b[0mplt\u001b[0m\u001b[0;34m.\u001b[0m\u001b[0msavefig\u001b[0m\u001b[0;34m(\u001b[0m\u001b[0mfolder\u001b[0m \u001b[0;34m+\u001b[0m \u001b[0;34m\"/file%02d.png\"\u001b[0m \u001b[0;34m%\u001b[0m \u001b[0mi\u001b[0m\u001b[0;34m)\u001b[0m\u001b[0;34m\u001b[0m\u001b[0;34m\u001b[0m\u001b[0m\n",
      "\u001b[0;32m~/anaconda3/lib/python3.7/site-packages/matplotlib/pyplot.py\u001b[0m in \u001b[0;36mplot\u001b[0;34m(scalex, scaley, data, *args, **kwargs)\u001b[0m\n\u001b[1;32m   2794\u001b[0m     return gca().plot(\n\u001b[1;32m   2795\u001b[0m         *args, scalex=scalex, scaley=scaley, **({\"data\": data} if data\n\u001b[0;32m-> 2796\u001b[0;31m         is not None else {}), **kwargs)\n\u001b[0m\u001b[1;32m   2797\u001b[0m \u001b[0;34m\u001b[0m\u001b[0m\n\u001b[1;32m   2798\u001b[0m \u001b[0;34m\u001b[0m\u001b[0m\n",
      "\u001b[0;32m~/anaconda3/lib/python3.7/site-packages/matplotlib/axes/_axes.py\u001b[0m in \u001b[0;36mplot\u001b[0;34m(self, scalex, scaley, data, *args, **kwargs)\u001b[0m\n\u001b[1;32m   1665\u001b[0m         \u001b[0mlines\u001b[0m \u001b[0;34m=\u001b[0m \u001b[0;34m[\u001b[0m\u001b[0;34m*\u001b[0m\u001b[0mself\u001b[0m\u001b[0;34m.\u001b[0m\u001b[0m_get_lines\u001b[0m\u001b[0;34m(\u001b[0m\u001b[0;34m*\u001b[0m\u001b[0margs\u001b[0m\u001b[0;34m,\u001b[0m \u001b[0mdata\u001b[0m\u001b[0;34m=\u001b[0m\u001b[0mdata\u001b[0m\u001b[0;34m,\u001b[0m \u001b[0;34m**\u001b[0m\u001b[0mkwargs\u001b[0m\u001b[0;34m)\u001b[0m\u001b[0;34m]\u001b[0m\u001b[0;34m\u001b[0m\u001b[0;34m\u001b[0m\u001b[0m\n\u001b[1;32m   1666\u001b[0m         \u001b[0;32mfor\u001b[0m \u001b[0mline\u001b[0m \u001b[0;32min\u001b[0m \u001b[0mlines\u001b[0m\u001b[0;34m:\u001b[0m\u001b[0;34m\u001b[0m\u001b[0;34m\u001b[0m\u001b[0m\n\u001b[0;32m-> 1667\u001b[0;31m             \u001b[0mself\u001b[0m\u001b[0;34m.\u001b[0m\u001b[0madd_line\u001b[0m\u001b[0;34m(\u001b[0m\u001b[0mline\u001b[0m\u001b[0;34m)\u001b[0m\u001b[0;34m\u001b[0m\u001b[0;34m\u001b[0m\u001b[0m\n\u001b[0m\u001b[1;32m   1668\u001b[0m         \u001b[0mself\u001b[0m\u001b[0;34m.\u001b[0m\u001b[0mautoscale_view\u001b[0m\u001b[0;34m(\u001b[0m\u001b[0mscalex\u001b[0m\u001b[0;34m=\u001b[0m\u001b[0mscalex\u001b[0m\u001b[0;34m,\u001b[0m \u001b[0mscaley\u001b[0m\u001b[0;34m=\u001b[0m\u001b[0mscaley\u001b[0m\u001b[0;34m)\u001b[0m\u001b[0;34m\u001b[0m\u001b[0;34m\u001b[0m\u001b[0m\n\u001b[1;32m   1669\u001b[0m         \u001b[0;32mreturn\u001b[0m \u001b[0mlines\u001b[0m\u001b[0;34m\u001b[0m\u001b[0;34m\u001b[0m\u001b[0m\n",
      "\u001b[0;32m~/anaconda3/lib/python3.7/site-packages/matplotlib/axes/_base.py\u001b[0m in \u001b[0;36madd_line\u001b[0;34m(self, line)\u001b[0m\n\u001b[1;32m   1900\u001b[0m             \u001b[0mline\u001b[0m\u001b[0;34m.\u001b[0m\u001b[0mset_clip_path\u001b[0m\u001b[0;34m(\u001b[0m\u001b[0mself\u001b[0m\u001b[0;34m.\u001b[0m\u001b[0mpatch\u001b[0m\u001b[0;34m)\u001b[0m\u001b[0;34m\u001b[0m\u001b[0;34m\u001b[0m\u001b[0m\n\u001b[1;32m   1901\u001b[0m \u001b[0;34m\u001b[0m\u001b[0m\n\u001b[0;32m-> 1902\u001b[0;31m         \u001b[0mself\u001b[0m\u001b[0;34m.\u001b[0m\u001b[0m_update_line_limits\u001b[0m\u001b[0;34m(\u001b[0m\u001b[0mline\u001b[0m\u001b[0;34m)\u001b[0m\u001b[0;34m\u001b[0m\u001b[0;34m\u001b[0m\u001b[0m\n\u001b[0m\u001b[1;32m   1903\u001b[0m         \u001b[0;32mif\u001b[0m \u001b[0;32mnot\u001b[0m \u001b[0mline\u001b[0m\u001b[0;34m.\u001b[0m\u001b[0mget_label\u001b[0m\u001b[0;34m(\u001b[0m\u001b[0;34m)\u001b[0m\u001b[0;34m:\u001b[0m\u001b[0;34m\u001b[0m\u001b[0;34m\u001b[0m\u001b[0m\n\u001b[1;32m   1904\u001b[0m             \u001b[0mline\u001b[0m\u001b[0;34m.\u001b[0m\u001b[0mset_label\u001b[0m\u001b[0;34m(\u001b[0m\u001b[0;34m'_line%d'\u001b[0m \u001b[0;34m%\u001b[0m \u001b[0mlen\u001b[0m\u001b[0;34m(\u001b[0m\u001b[0mself\u001b[0m\u001b[0;34m.\u001b[0m\u001b[0mlines\u001b[0m\u001b[0;34m)\u001b[0m\u001b[0;34m)\u001b[0m\u001b[0;34m\u001b[0m\u001b[0;34m\u001b[0m\u001b[0m\n",
      "\u001b[0;32m~/anaconda3/lib/python3.7/site-packages/matplotlib/axes/_base.py\u001b[0m in \u001b[0;36m_update_line_limits\u001b[0;34m(self, line)\u001b[0m\n\u001b[1;32m   1922\u001b[0m         \u001b[0mFigures\u001b[0m \u001b[0mout\u001b[0m \u001b[0mthe\u001b[0m \u001b[0mdata\u001b[0m \u001b[0mlimit\u001b[0m \u001b[0mof\u001b[0m \u001b[0mthe\u001b[0m \u001b[0mgiven\u001b[0m \u001b[0mline\u001b[0m\u001b[0;34m,\u001b[0m \u001b[0mupdating\u001b[0m \u001b[0mself\u001b[0m\u001b[0;34m.\u001b[0m\u001b[0mdataLim\u001b[0m\u001b[0;34m.\u001b[0m\u001b[0;34m\u001b[0m\u001b[0;34m\u001b[0m\u001b[0m\n\u001b[1;32m   1923\u001b[0m         \"\"\"\n\u001b[0;32m-> 1924\u001b[0;31m         \u001b[0mpath\u001b[0m \u001b[0;34m=\u001b[0m \u001b[0mline\u001b[0m\u001b[0;34m.\u001b[0m\u001b[0mget_path\u001b[0m\u001b[0;34m(\u001b[0m\u001b[0;34m)\u001b[0m\u001b[0;34m\u001b[0m\u001b[0;34m\u001b[0m\u001b[0m\n\u001b[0m\u001b[1;32m   1925\u001b[0m         \u001b[0;32mif\u001b[0m \u001b[0mpath\u001b[0m\u001b[0;34m.\u001b[0m\u001b[0mvertices\u001b[0m\u001b[0;34m.\u001b[0m\u001b[0msize\u001b[0m \u001b[0;34m==\u001b[0m \u001b[0;36m0\u001b[0m\u001b[0;34m:\u001b[0m\u001b[0;34m\u001b[0m\u001b[0;34m\u001b[0m\u001b[0m\n\u001b[1;32m   1926\u001b[0m             \u001b[0;32mreturn\u001b[0m\u001b[0;34m\u001b[0m\u001b[0;34m\u001b[0m\u001b[0m\n",
      "\u001b[0;32m~/anaconda3/lib/python3.7/site-packages/matplotlib/lines.py\u001b[0m in \u001b[0;36mget_path\u001b[0;34m(self)\u001b[0m\n\u001b[1;32m   1025\u001b[0m         \"\"\"\n\u001b[1;32m   1026\u001b[0m         \u001b[0;32mif\u001b[0m \u001b[0mself\u001b[0m\u001b[0;34m.\u001b[0m\u001b[0m_invalidy\u001b[0m \u001b[0;32mor\u001b[0m \u001b[0mself\u001b[0m\u001b[0;34m.\u001b[0m\u001b[0m_invalidx\u001b[0m\u001b[0;34m:\u001b[0m\u001b[0;34m\u001b[0m\u001b[0;34m\u001b[0m\u001b[0m\n\u001b[0;32m-> 1027\u001b[0;31m             \u001b[0mself\u001b[0m\u001b[0;34m.\u001b[0m\u001b[0mrecache\u001b[0m\u001b[0;34m(\u001b[0m\u001b[0;34m)\u001b[0m\u001b[0;34m\u001b[0m\u001b[0;34m\u001b[0m\u001b[0m\n\u001b[0m\u001b[1;32m   1028\u001b[0m         \u001b[0;32mreturn\u001b[0m \u001b[0mself\u001b[0m\u001b[0;34m.\u001b[0m\u001b[0m_path\u001b[0m\u001b[0;34m\u001b[0m\u001b[0;34m\u001b[0m\u001b[0m\n\u001b[1;32m   1029\u001b[0m \u001b[0;34m\u001b[0m\u001b[0m\n",
      "\u001b[0;32m~/anaconda3/lib/python3.7/site-packages/matplotlib/lines.py\u001b[0m in \u001b[0;36mrecache\u001b[0;34m(self, always)\u001b[0m\n\u001b[1;32m    673\u001b[0m         \u001b[0;32mif\u001b[0m \u001b[0malways\u001b[0m \u001b[0;32mor\u001b[0m \u001b[0mself\u001b[0m\u001b[0;34m.\u001b[0m\u001b[0m_invalidy\u001b[0m\u001b[0;34m:\u001b[0m\u001b[0;34m\u001b[0m\u001b[0;34m\u001b[0m\u001b[0m\n\u001b[1;32m    674\u001b[0m             \u001b[0myconv\u001b[0m \u001b[0;34m=\u001b[0m \u001b[0mself\u001b[0m\u001b[0;34m.\u001b[0m\u001b[0mconvert_yunits\u001b[0m\u001b[0;34m(\u001b[0m\u001b[0mself\u001b[0m\u001b[0;34m.\u001b[0m\u001b[0m_yorig\u001b[0m\u001b[0;34m)\u001b[0m\u001b[0;34m\u001b[0m\u001b[0;34m\u001b[0m\u001b[0m\n\u001b[0;32m--> 675\u001b[0;31m             \u001b[0my\u001b[0m \u001b[0;34m=\u001b[0m \u001b[0m_to_unmasked_float_array\u001b[0m\u001b[0;34m(\u001b[0m\u001b[0myconv\u001b[0m\u001b[0;34m)\u001b[0m\u001b[0;34m.\u001b[0m\u001b[0mravel\u001b[0m\u001b[0;34m(\u001b[0m\u001b[0;34m)\u001b[0m\u001b[0;34m\u001b[0m\u001b[0;34m\u001b[0m\u001b[0m\n\u001b[0m\u001b[1;32m    676\u001b[0m         \u001b[0;32melse\u001b[0m\u001b[0;34m:\u001b[0m\u001b[0;34m\u001b[0m\u001b[0;34m\u001b[0m\u001b[0m\n\u001b[1;32m    677\u001b[0m             \u001b[0my\u001b[0m \u001b[0;34m=\u001b[0m \u001b[0mself\u001b[0m\u001b[0;34m.\u001b[0m\u001b[0m_y\u001b[0m\u001b[0;34m\u001b[0m\u001b[0;34m\u001b[0m\u001b[0m\n",
      "\u001b[0;32m~/anaconda3/lib/python3.7/site-packages/matplotlib/cbook/__init__.py\u001b[0m in \u001b[0;36m_to_unmasked_float_array\u001b[0;34m(x)\u001b[0m\n\u001b[1;32m   1388\u001b[0m         \u001b[0;32mreturn\u001b[0m \u001b[0mnp\u001b[0m\u001b[0;34m.\u001b[0m\u001b[0mma\u001b[0m\u001b[0;34m.\u001b[0m\u001b[0masarray\u001b[0m\u001b[0;34m(\u001b[0m\u001b[0mx\u001b[0m\u001b[0;34m,\u001b[0m \u001b[0mfloat\u001b[0m\u001b[0;34m)\u001b[0m\u001b[0;34m.\u001b[0m\u001b[0mfilled\u001b[0m\u001b[0;34m(\u001b[0m\u001b[0mnp\u001b[0m\u001b[0;34m.\u001b[0m\u001b[0mnan\u001b[0m\u001b[0;34m)\u001b[0m\u001b[0;34m\u001b[0m\u001b[0;34m\u001b[0m\u001b[0m\n\u001b[1;32m   1389\u001b[0m     \u001b[0;32melse\u001b[0m\u001b[0;34m:\u001b[0m\u001b[0;34m\u001b[0m\u001b[0;34m\u001b[0m\u001b[0m\n\u001b[0;32m-> 1390\u001b[0;31m         \u001b[0;32mreturn\u001b[0m \u001b[0mnp\u001b[0m\u001b[0;34m.\u001b[0m\u001b[0masarray\u001b[0m\u001b[0;34m(\u001b[0m\u001b[0mx\u001b[0m\u001b[0;34m,\u001b[0m \u001b[0mfloat\u001b[0m\u001b[0;34m)\u001b[0m\u001b[0;34m\u001b[0m\u001b[0;34m\u001b[0m\u001b[0m\n\u001b[0m\u001b[1;32m   1391\u001b[0m \u001b[0;34m\u001b[0m\u001b[0m\n\u001b[1;32m   1392\u001b[0m \u001b[0;34m\u001b[0m\u001b[0m\n",
      "\u001b[0;32m~/anaconda3/lib/python3.7/site-packages/numpy/core/_asarray.py\u001b[0m in \u001b[0;36masarray\u001b[0;34m(a, dtype, order)\u001b[0m\n\u001b[1;32m     83\u001b[0m \u001b[0;34m\u001b[0m\u001b[0m\n\u001b[1;32m     84\u001b[0m     \"\"\"\n\u001b[0;32m---> 85\u001b[0;31m     \u001b[0;32mreturn\u001b[0m \u001b[0marray\u001b[0m\u001b[0;34m(\u001b[0m\u001b[0ma\u001b[0m\u001b[0;34m,\u001b[0m \u001b[0mdtype\u001b[0m\u001b[0;34m,\u001b[0m \u001b[0mcopy\u001b[0m\u001b[0;34m=\u001b[0m\u001b[0;32mFalse\u001b[0m\u001b[0;34m,\u001b[0m \u001b[0morder\u001b[0m\u001b[0;34m=\u001b[0m\u001b[0morder\u001b[0m\u001b[0;34m)\u001b[0m\u001b[0;34m\u001b[0m\u001b[0;34m\u001b[0m\u001b[0m\n\u001b[0m\u001b[1;32m     86\u001b[0m \u001b[0;34m\u001b[0m\u001b[0m\n\u001b[1;32m     87\u001b[0m \u001b[0;34m\u001b[0m\u001b[0m\n",
      "\u001b[0;31mTypeError\u001b[0m: float() argument must be a string or a number, not 'Figure'"
     ]
    },
    {
     "data": {
      "image/png": "[encoded data removed]",
      "text/plain": [
       "<Figure size 432x288 with 1 Axes>"
      ]
     },
     "metadata": {
      "needs_background": "light"
     },
     "output_type": "display_data"
    }
   ],
   "source": [
    "generate_video(img)"
   ]
  },
  {
   "cell_type": "code",
   "execution_count": 727,
   "metadata": {},
   "outputs": [
    {
     "data": {
      "image/png": "[encoded data removed]",
      "text/plain": [
       "<Figure size 432x288 with 1 Axes>"
      ]
     },
     "execution_count": 727,
     "metadata": {},
     "output_type": "execute_result"
    }
   ],
   "source": [
    "img[100]"
   ]
  }
 ],
 "metadata": {
  "kernelspec": {
   "display_name": "Python 3",
   "language": "python",
   "name": "python3"
  },
  "language_info": {
   "codemirror_mode": {
    "name": "ipython",
    "version": 3
   },
   "file_extension": ".py",
   "mimetype": "text/x-python",
   "name": "python",
   "nbconvert_exporter": "python",
   "pygments_lexer": "ipython3",
   "version": "3.6.10"
  }
 },
 "nbformat": 4,
 "nbformat_minor": 4
}
